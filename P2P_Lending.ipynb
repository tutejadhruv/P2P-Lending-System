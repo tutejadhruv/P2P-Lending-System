{
  "nbformat": 4,
  "nbformat_minor": 0,
  "metadata": {
    "colab": {
      "name": "P2P Lending.ipynb",
      "provenance": [],
      "collapsed_sections": []
    },
    "kernelspec": {
      "name": "python3",
      "display_name": "Python 3"
    },
    "language_info": {
      "name": "python"
    },
    "accelerator": "GPU"
  },
  "cells": [
    {
      "cell_type": "markdown",
      "metadata": {
        "id": "aOu9eQoTZ6uG"
      },
      "source": [
        "### P2P Lending System"
      ]
    },
    {
      "cell_type": "markdown",
      "metadata": {
        "id": "IARJihXmbArg"
      },
      "source": [
        "### Library Imports"
      ]
    },
    {
      "cell_type": "code",
      "metadata": {
        "colab": {
          "base_uri": "https://localhost:8080/"
        },
        "id": "M-4HBZIuZpuO",
        "outputId": "2dff8dbc-d72a-48fa-8e71-484e413ac929"
      },
      "source": [
        "import numpy as np\n",
        "import pandas as pd\n",
        "import matplotlib.pyplot as plt\n",
        "import seaborn as sns\n",
        "from sklearn.model_selection import train_test_split\n",
        "from sklearn.preprocessing import MinMaxScaler\n",
        "import tensorflow as tf\n",
        "from tensorflow.keras.models import Sequential\n",
        "from tensorflow.keras.layers import Dense,Dropout\n",
        "from tensorflow.keras.callbacks import EarlyStopping\n",
        "from tensorflow.keras.models import load_model\n",
        "from sklearn.metrics import classification_report,confusion_matrix\n",
        "from sklearn.ensemble import RandomForestClassifier\n",
        "from statsmodels.stats.outliers_influence import variance_inflation_factor\n",
        "\n",
        "%matplotlib inline"
      ],
      "execution_count": 1,
      "outputs": [
        {
          "output_type": "stream",
          "text": [
            "/usr/local/lib/python3.7/dist-packages/statsmodels/tools/_testing.py:19: FutureWarning: pandas.util.testing is deprecated. Use the functions in the public API at pandas.testing instead.\n",
            "  import pandas.util.testing as tm\n"
          ],
          "name": "stderr"
        }
      ]
    },
    {
      "cell_type": "markdown",
      "metadata": {
        "id": "VqJY9sHHZ35v"
      },
      "source": [
        "### Data Import"
      ]
    },
    {
      "cell_type": "code",
      "metadata": {
        "id": "fVQKU-ltZv8P"
      },
      "source": [
        "from pydrive.auth import GoogleAuth\n",
        "from pydrive.drive import GoogleDrive\n",
        "from google.colab import auth\n",
        "from oauth2client.client import GoogleCredentials\n",
        "\n",
        "# Authenticate and create the PyDrive client.\n",
        "auth.authenticate_user()\n",
        "gauth = GoogleAuth()\n",
        "gauth.credentials = GoogleCredentials.get_application_default()\n",
        "drive = GoogleDrive(gauth)"
      ],
      "execution_count": 2,
      "outputs": []
    },
    {
      "cell_type": "code",
      "metadata": {
        "id": "RRzjQar_77Ml"
      },
      "source": [
        "link = \"https://drive.google.com/file/d/1aGf9sDBY0-7UAsO2l7w9lxKBtO954bv4/view?usp=sharing\"\n",
        "id = \"1aGf9sDBY0-7UAsO2l7w9lxKBtO954bv4\""
      ],
      "execution_count": 3,
      "outputs": []
    },
    {
      "cell_type": "code",
      "metadata": {
        "colab": {
          "base_uri": "https://localhost:8080/"
        },
        "id": "POXlRLeu_yqM",
        "outputId": "59a2c298-3108-4f87-b5a1-0588c4708cb1"
      },
      "source": [
        "downloaded = drive.CreateFile({'id':id}) \n",
        "downloaded.GetContentFile('Master_Loan_Summary.csv')  \n",
        "df = pd.read_csv('Master_Loan_Summary.csv')\n",
        "# Dataset is now stored in a Pandas Dataframe\n"
      ],
      "execution_count": 4,
      "outputs": [
        {
          "output_type": "stream",
          "text": [
            "/usr/local/lib/python3.7/dist-packages/IPython/core/interactiveshell.py:2718: DtypeWarning: Columns (7) have mixed types.Specify dtype option on import or set low_memory=False.\n",
            "  interactivity=interactivity, compiler=compiler, result=result)\n"
          ],
          "name": "stderr"
        }
      ]
    },
    {
      "cell_type": "markdown",
      "metadata": {
        "id": "fOmzhqU4A6hH"
      },
      "source": [
        "### EDA"
      ]
    },
    {
      "cell_type": "code",
      "metadata": {
        "colab": {
          "base_uri": "https://localhost:8080/",
          "height": 226
        },
        "id": "hLXziXGk_32x",
        "outputId": "dab0c8fe-479a-48e7-ac1e-37d73115632f"
      },
      "source": [
        "df.head()"
      ],
      "execution_count": 6,
      "outputs": [
        {
          "output_type": "execute_result",
          "data": {
            "text/html": [
              "<div>\n",
              "<style scoped>\n",
              "    .dataframe tbody tr th:only-of-type {\n",
              "        vertical-align: middle;\n",
              "    }\n",
              "\n",
              "    .dataframe tbody tr th {\n",
              "        vertical-align: top;\n",
              "    }\n",
              "\n",
              "    .dataframe thead th {\n",
              "        text-align: right;\n",
              "    }\n",
              "</style>\n",
              "<table border=\"1\" class=\"dataframe\">\n",
              "  <thead>\n",
              "    <tr style=\"text-align: right;\">\n",
              "      <th></th>\n",
              "      <th>loan_number</th>\n",
              "      <th>amount_borrowed</th>\n",
              "      <th>term</th>\n",
              "      <th>borrower_rate</th>\n",
              "      <th>installment</th>\n",
              "      <th>grade</th>\n",
              "      <th>origination_date</th>\n",
              "      <th>listing_title</th>\n",
              "      <th>principal_balance</th>\n",
              "      <th>principal_paid</th>\n",
              "      <th>interest_paid</th>\n",
              "      <th>late_fees_paid</th>\n",
              "      <th>debt_sale_proceeds_received</th>\n",
              "      <th>last_payment_date</th>\n",
              "      <th>next_payment_due_date</th>\n",
              "      <th>days_past_due</th>\n",
              "      <th>loan_status_description</th>\n",
              "      <th>data_source</th>\n",
              "    </tr>\n",
              "  </thead>\n",
              "  <tbody>\n",
              "    <tr>\n",
              "      <th>0</th>\n",
              "      <td>10149342</td>\n",
              "      <td>27050.0</td>\n",
              "      <td>36</td>\n",
              "      <td>0.1099</td>\n",
              "      <td>885.46</td>\n",
              "      <td>B</td>\n",
              "      <td>2013-12-01T00:00</td>\n",
              "      <td>debt_consolidation</td>\n",
              "      <td>0.0</td>\n",
              "      <td>27050.0</td>\n",
              "      <td>4702.53</td>\n",
              "      <td>0.0</td>\n",
              "      <td>0.0</td>\n",
              "      <td>2016-07-01T00:00</td>\n",
              "      <td>2016-08-01T00:00</td>\n",
              "      <td>0</td>\n",
              "      <td>COMPLETED</td>\n",
              "      <td>Lending Club</td>\n",
              "    </tr>\n",
              "    <tr>\n",
              "      <th>1</th>\n",
              "      <td>10149488</td>\n",
              "      <td>4800.0</td>\n",
              "      <td>36</td>\n",
              "      <td>0.1099</td>\n",
              "      <td>157.13</td>\n",
              "      <td>B</td>\n",
              "      <td>2013-12-01T00:00</td>\n",
              "      <td>home_improvement</td>\n",
              "      <td>0.0</td>\n",
              "      <td>4800.0</td>\n",
              "      <td>357.52</td>\n",
              "      <td>0.0</td>\n",
              "      <td>0.0</td>\n",
              "      <td>2014-09-01T00:00</td>\n",
              "      <td>2014-10-01T00:00</td>\n",
              "      <td>0</td>\n",
              "      <td>COMPLETED</td>\n",
              "      <td>Lending Club</td>\n",
              "    </tr>\n",
              "    <tr>\n",
              "      <th>2</th>\n",
              "      <td>10148122</td>\n",
              "      <td>12000.0</td>\n",
              "      <td>36</td>\n",
              "      <td>0.0762</td>\n",
              "      <td>373.94</td>\n",
              "      <td>A</td>\n",
              "      <td>2013-12-01T00:00</td>\n",
              "      <td>debt_consolidation</td>\n",
              "      <td>0.0</td>\n",
              "      <td>12000.0</td>\n",
              "      <td>1397.54</td>\n",
              "      <td>0.0</td>\n",
              "      <td>0.0</td>\n",
              "      <td>2016-06-01T00:00</td>\n",
              "      <td>2016-07-01T00:00</td>\n",
              "      <td>0</td>\n",
              "      <td>COMPLETED</td>\n",
              "      <td>Lending Club</td>\n",
              "    </tr>\n",
              "    <tr>\n",
              "      <th>3</th>\n",
              "      <td>10119623</td>\n",
              "      <td>12000.0</td>\n",
              "      <td>36</td>\n",
              "      <td>0.1199</td>\n",
              "      <td>398.52</td>\n",
              "      <td>B</td>\n",
              "      <td>2013-12-01T00:00</td>\n",
              "      <td>debt_consolidation</td>\n",
              "      <td>0.0</td>\n",
              "      <td>12000.0</td>\n",
              "      <td>2346.48</td>\n",
              "      <td>0.0</td>\n",
              "      <td>0.0</td>\n",
              "      <td>2017-01-01T00:00</td>\n",
              "      <td>2017-02-01T00:00</td>\n",
              "      <td>0</td>\n",
              "      <td>COMPLETED</td>\n",
              "      <td>Lending Club</td>\n",
              "    </tr>\n",
              "    <tr>\n",
              "      <th>4</th>\n",
              "      <td>10159498</td>\n",
              "      <td>12000.0</td>\n",
              "      <td>36</td>\n",
              "      <td>0.0662</td>\n",
              "      <td>368.45</td>\n",
              "      <td>A</td>\n",
              "      <td>2013-12-01T00:00</td>\n",
              "      <td>debt_consolidation</td>\n",
              "      <td>0.0</td>\n",
              "      <td>12000.0</td>\n",
              "      <td>1263.95</td>\n",
              "      <td>0.0</td>\n",
              "      <td>0.0</td>\n",
              "      <td>2017-01-01T00:00</td>\n",
              "      <td>2017-02-01T00:00</td>\n",
              "      <td>0</td>\n",
              "      <td>COMPLETED</td>\n",
              "      <td>Lending Club</td>\n",
              "    </tr>\n",
              "  </tbody>\n",
              "</table>\n",
              "</div>"
            ],
            "text/plain": [
              "   loan_number  amount_borrowed  ...  loan_status_description   data_source\n",
              "0     10149342          27050.0  ...                COMPLETED  Lending Club\n",
              "1     10149488           4800.0  ...                COMPLETED  Lending Club\n",
              "2     10148122          12000.0  ...                COMPLETED  Lending Club\n",
              "3     10119623          12000.0  ...                COMPLETED  Lending Club\n",
              "4     10159498          12000.0  ...                COMPLETED  Lending Club\n",
              "\n",
              "[5 rows x 18 columns]"
            ]
          },
          "metadata": {
            "tags": []
          },
          "execution_count": 6
        }
      ]
    },
    {
      "cell_type": "code",
      "metadata": {
        "colab": {
          "base_uri": "https://localhost:8080/"
        },
        "id": "L83ck89IAqIq",
        "outputId": "4cf02d14-85d4-4f6f-b124-16774c6e2c52"
      },
      "source": [
        "df.shape"
      ],
      "execution_count": 7,
      "outputs": [
        {
          "output_type": "execute_result",
          "data": {
            "text/plain": [
              "(2875146, 18)"
            ]
          },
          "metadata": {
            "tags": []
          },
          "execution_count": 7
        }
      ]
    },
    {
      "cell_type": "code",
      "metadata": {
        "colab": {
          "base_uri": "https://localhost:8080/"
        },
        "id": "8HNKfHlMAt9S",
        "outputId": "35e61cca-5cbe-4670-c2fc-14ed3bb7a0b3"
      },
      "source": [
        "df['loan_status_description'].value_counts()"
      ],
      "execution_count": 8,
      "outputs": [
        {
          "output_type": "execute_result",
          "data": {
            "text/plain": [
              "CURRENT      1381520\n",
              "COMPLETED    1173162\n",
              "CHARGEOFF     222867\n",
              "DEFAULTED      95344\n",
              "CANCELLED       2253\n",
              "Name: loan_status_description, dtype: int64"
            ]
          },
          "metadata": {
            "tags": []
          },
          "execution_count": 8
        }
      ]
    },
    {
      "cell_type": "markdown",
      "metadata": {
        "id": "otFd0DSyEQIh"
      },
      "source": [
        "**Countplot of Target Varaible**"
      ]
    },
    {
      "cell_type": "code",
      "metadata": {
        "colab": {
          "base_uri": "https://localhost:8080/",
          "height": 417
        },
        "id": "_achVs-EBZ2a",
        "outputId": "312fa769-86b1-4904-afbb-a28c3b4ba2b1"
      },
      "source": [
        "plt.figure(figsize=(10,6))\n",
        "sns.countplot(x='loan_status_description', data=df, palette='Set1')"
      ],
      "execution_count": 9,
      "outputs": [
        {
          "output_type": "execute_result",
          "data": {
            "text/plain": [
              "<matplotlib.axes._subplots.AxesSubplot at 0x7f0a5c8a7ed0>"
            ]
          },
          "metadata": {
            "tags": []
          },
          "execution_count": 9
        },
        {
          "output_type": "display_data",
          "data": {
            "image/png": "[encoded data removed]",
            "text/plain": [
              "<Figure size 720x432 with 1 Axes>"
            ]
          },
          "metadata": {
            "tags": [],
            "needs_background": "light"
          }
        }
      ]
    },
    {
      "cell_type": "markdown",
      "metadata": {
        "id": "L4siVbL9E0ZR"
      },
      "source": [
        "**Histogram of amount_borrowed**"
      ]
    },
    {
      "cell_type": "code",
      "metadata": {
        "colab": {
          "base_uri": "https://localhost:8080/",
          "height": 334
        },
        "id": "nMHm0OZFEwQ8",
        "outputId": "10d6393f-d293-4cf0-a619-e6aed13f505d"
      },
      "source": [
        "plt.figure(figsize=(12,5))\n",
        "ax = sns.histplot(data=df, x='amount_borrowed',bins=50, color='olive')\n",
        "ax.set(xlabel='Loan Amount', ylabel='Frequency')\n",
        "plt.show()"
      ],
      "execution_count": 10,
      "outputs": [
        {
          "output_type": "display_data",
          "data": {
            "image/png": "[encoded data removed]",
            "text/plain": [
              "<Figure size 864x360 with 1 Axes>"
            ]
          },
          "metadata": {
            "tags": [],
            "needs_background": "light"
          }
        }
      ]
    },
    {
      "cell_type": "markdown",
      "metadata": {
        "id": "gmlJ8g_9FO-2"
      },
      "source": [
        "**Correlation Heatmap**"
      ]
    },
    {
      "cell_type": "code",
      "metadata": {
        "colab": {
          "base_uri": "https://localhost:8080/",
          "height": 641
        },
        "id": "kfqpzgEbFC4e",
        "outputId": "cdf4f95c-14ce-4bbb-fe9a-5a13fe8f90bc"
      },
      "source": [
        "plt.figure(figsize=(12,8))\n",
        "sns.heatmap(df.corr(), annot=True, linewidths=0.5)"
      ],
      "execution_count": 11,
      "outputs": [
        {
          "output_type": "execute_result",
          "data": {
            "text/plain": [
              "<matplotlib.axes._subplots.AxesSubplot at 0x7f0a5bfaa190>"
            ]
          },
          "metadata": {
            "tags": []
          },
          "execution_count": 11
        },
        {
          "output_type": "display_data",
          "data": {
            "image/png": "[encoded data removed]",
            "text/plain": [
              "<Figure size 864x576 with 2 Axes>"
            ]
          },
          "metadata": {
            "tags": [],
            "needs_background": "light"
          }
        }
      ]
    },
    {
      "cell_type": "markdown",
      "metadata": {
        "id": "aYGwJd1NGZsD"
      },
      "source": [
        "\n",
        "**intallment - amount_borrowed plot**"
      ]
    },
    {
      "cell_type": "code",
      "metadata": {
        "colab": {
          "base_uri": "https://localhost:8080/",
          "height": 297
        },
        "id": "3obxyXUgGZdO",
        "outputId": "09a07f86-bafa-4896-c62b-74150cc18531"
      },
      "source": [
        "sns.scatterplot(x='installment', y='amount_borrowed', data=df)"
      ],
      "execution_count": 12,
      "outputs": [
        {
          "output_type": "execute_result",
          "data": {
            "text/plain": [
              "<matplotlib.axes._subplots.AxesSubplot at 0x7f0a535c1850>"
            ]
          },
          "metadata": {
            "tags": []
          },
          "execution_count": 12
        },
        {
          "output_type": "display_data",
          "data": {
            "image/png": "[encoded data removed]",
            "text/plain": [
              "<Figure size 432x288 with 1 Axes>"
            ]
          },
          "metadata": {
            "tags": [],
            "needs_background": "light"
          }
        }
      ]
    },
    {
      "cell_type": "markdown",
      "metadata": {
        "id": "g5DqtfcgHFDP"
      },
      "source": [
        "**loan_status_prediction - amount_borrowed box plot**"
      ]
    },
    {
      "cell_type": "code",
      "metadata": {
        "colab": {
          "base_uri": "https://localhost:8080/",
          "height": 297
        },
        "id": "vBRjFAvuFRp-",
        "outputId": "51f2c9e7-6498-4d9d-c2c6-f079522e3c75"
      },
      "source": [
        "sns.boxplot(x='loan_status_description', y='amount_borrowed', data=df)"
      ],
      "execution_count": 13,
      "outputs": [
        {
          "output_type": "execute_result",
          "data": {
            "text/plain": [
              "<matplotlib.axes._subplots.AxesSubplot at 0x7f0a51d44190>"
            ]
          },
          "metadata": {
            "tags": []
          },
          "execution_count": 13
        },
        {
          "output_type": "display_data",
          "data": {
            "image/png": "[encoded data removed]",
            "text/plain": [
              "<Figure size 432x288 with 1 Axes>"
            ]
          },
          "metadata": {
            "tags": [],
            "needs_background": "light"
          }
        }
      ]
    },
    {
      "cell_type": "markdown",
      "metadata": {
        "id": "zUB0L7fJHNBP"
      },
      "source": [
        "**Grade Count Plot**"
      ]
    },
    {
      "cell_type": "code",
      "metadata": {
        "colab": {
          "base_uri": "https://localhost:8080/",
          "height": 515
        },
        "id": "HiALwuS9GuY-",
        "outputId": "73e3212f-d0fd-43cd-df5b-692bdfb8411e"
      },
      "source": [
        "grade_order = sorted(df['grade'].unique())\n",
        "plt.figure(figsize=(12,8))\n",
        "sns.countplot(x='grade', data=df, hue='loan_status_description', order=grade_order)"
      ],
      "execution_count": 14,
      "outputs": [
        {
          "output_type": "execute_result",
          "data": {
            "text/plain": [
              "<matplotlib.axes._subplots.AxesSubplot at 0x7f0ab429b110>"
            ]
          },
          "metadata": {
            "tags": []
          },
          "execution_count": 14
        },
        {
          "output_type": "display_data",
          "data": {
            "image/png": "[encoded data removed]",
            "text/plain": [
              "<Figure size 864x576 with 1 Axes>"
            ]
          },
          "metadata": {
            "tags": [],
            "needs_background": "light"
          }
        }
      ]
    },
    {
      "cell_type": "markdown",
      "metadata": {
        "id": "FqLploe3UTEA"
      },
      "source": [
        "**Data Source Count Plot**"
      ]
    },
    {
      "cell_type": "code",
      "metadata": {
        "id": "sDHXdGFWUSV6",
        "colab": {
          "base_uri": "https://localhost:8080/",
          "height": 363
        },
        "outputId": "a5931d17-bc05-49a5-d368-e0495af35775"
      },
      "source": [
        "plt.figure(figsize=(9,5))\n",
        "sns.countplot(x='data_source', data=df, hue='loan_status_description')"
      ],
      "execution_count": 15,
      "outputs": [
        {
          "output_type": "execute_result",
          "data": {
            "text/plain": [
              "<matplotlib.axes._subplots.AxesSubplot at 0x7f0a51d28750>"
            ]
          },
          "metadata": {
            "tags": []
          },
          "execution_count": 15
        },
        {
          "output_type": "display_data",
          "data": {
            "image/png": "[encoded data removed]",
            "text/plain": [
              "<Figure size 648x360 with 1 Axes>"
            ]
          },
          "metadata": {
            "tags": [],
            "needs_background": "light"
          }
        }
      ]
    },
    {
      "cell_type": "markdown",
      "metadata": {
        "id": "6fhzOJmhHgHd"
      },
      "source": [
        "### Data Processing"
      ]
    },
    {
      "cell_type": "code",
      "metadata": {
        "colab": {
          "base_uri": "https://localhost:8080/",
          "height": 226
        },
        "id": "MMxOfqA_HVRm",
        "outputId": "9e1ae252-87de-4b2c-8235-d31abf260e44"
      },
      "source": [
        "df.head()"
      ],
      "execution_count": 16,
      "outputs": [
        {
          "output_type": "execute_result",
          "data": {
            "text/html": [
              "<div>\n",
              "<style scoped>\n",
              "    .dataframe tbody tr th:only-of-type {\n",
              "        vertical-align: middle;\n",
              "    }\n",
              "\n",
              "    .dataframe tbody tr th {\n",
              "        vertical-align: top;\n",
              "    }\n",
              "\n",
              "    .dataframe thead th {\n",
              "        text-align: right;\n",
              "    }\n",
              "</style>\n",
              "<table border=\"1\" class=\"dataframe\">\n",
              "  <thead>\n",
              "    <tr style=\"text-align: right;\">\n",
              "      <th></th>\n",
              "      <th>loan_number</th>\n",
              "      <th>amount_borrowed</th>\n",
              "      <th>term</th>\n",
              "      <th>borrower_rate</th>\n",
              "      <th>installment</th>\n",
              "      <th>grade</th>\n",
              "      <th>origination_date</th>\n",
              "      <th>listing_title</th>\n",
              "      <th>principal_balance</th>\n",
              "      <th>principal_paid</th>\n",
              "      <th>interest_paid</th>\n",
              "      <th>late_fees_paid</th>\n",
              "      <th>debt_sale_proceeds_received</th>\n",
              "      <th>last_payment_date</th>\n",
              "      <th>next_payment_due_date</th>\n",
              "      <th>days_past_due</th>\n",
              "      <th>loan_status_description</th>\n",
              "      <th>data_source</th>\n",
              "    </tr>\n",
              "  </thead>\n",
              "  <tbody>\n",
              "    <tr>\n",
              "      <th>0</th>\n",
              "      <td>10149342</td>\n",
              "      <td>27050.0</td>\n",
              "      <td>36</td>\n",
              "      <td>0.1099</td>\n",
              "      <td>885.46</td>\n",
              "      <td>B</td>\n",
              "      <td>2013-12-01T00:00</td>\n",
              "      <td>debt_consolidation</td>\n",
              "      <td>0.0</td>\n",
              "      <td>27050.0</td>\n",
              "      <td>4702.53</td>\n",
              "      <td>0.0</td>\n",
              "      <td>0.0</td>\n",
              "      <td>2016-07-01T00:00</td>\n",
              "      <td>2016-08-01T00:00</td>\n",
              "      <td>0</td>\n",
              "      <td>COMPLETED</td>\n",
              "      <td>Lending Club</td>\n",
              "    </tr>\n",
              "    <tr>\n",
              "      <th>1</th>\n",
              "      <td>10149488</td>\n",
              "      <td>4800.0</td>\n",
              "      <td>36</td>\n",
              "      <td>0.1099</td>\n",
              "      <td>157.13</td>\n",
              "      <td>B</td>\n",
              "      <td>2013-12-01T00:00</td>\n",
              "      <td>home_improvement</td>\n",
              "      <td>0.0</td>\n",
              "      <td>4800.0</td>\n",
              "      <td>357.52</td>\n",
              "      <td>0.0</td>\n",
              "      <td>0.0</td>\n",
              "      <td>2014-09-01T00:00</td>\n",
              "      <td>2014-10-01T00:00</td>\n",
              "      <td>0</td>\n",
              "      <td>COMPLETED</td>\n",
              "      <td>Lending Club</td>\n",
              "    </tr>\n",
              "    <tr>\n",
              "      <th>2</th>\n",
              "      <td>10148122</td>\n",
              "      <td>12000.0</td>\n",
              "      <td>36</td>\n",
              "      <td>0.0762</td>\n",
              "      <td>373.94</td>\n",
              "      <td>A</td>\n",
              "      <td>2013-12-01T00:00</td>\n",
              "      <td>debt_consolidation</td>\n",
              "      <td>0.0</td>\n",
              "      <td>12000.0</td>\n",
              "      <td>1397.54</td>\n",
              "      <td>0.0</td>\n",
              "      <td>0.0</td>\n",
              "      <td>2016-06-01T00:00</td>\n",
              "      <td>2016-07-01T00:00</td>\n",
              "      <td>0</td>\n",
              "      <td>COMPLETED</td>\n",
              "      <td>Lending Club</td>\n",
              "    </tr>\n",
              "    <tr>\n",
              "      <th>3</th>\n",
              "      <td>10119623</td>\n",
              "      <td>12000.0</td>\n",
              "      <td>36</td>\n",
              "      <td>0.1199</td>\n",
              "      <td>398.52</td>\n",
              "      <td>B</td>\n",
              "      <td>2013-12-01T00:00</td>\n",
              "      <td>debt_consolidation</td>\n",
              "      <td>0.0</td>\n",
              "      <td>12000.0</td>\n",
              "      <td>2346.48</td>\n",
              "      <td>0.0</td>\n",
              "      <td>0.0</td>\n",
              "      <td>2017-01-01T00:00</td>\n",
              "      <td>2017-02-01T00:00</td>\n",
              "      <td>0</td>\n",
              "      <td>COMPLETED</td>\n",
              "      <td>Lending Club</td>\n",
              "    </tr>\n",
              "    <tr>\n",
              "      <th>4</th>\n",
              "      <td>10159498</td>\n",
              "      <td>12000.0</td>\n",
              "      <td>36</td>\n",
              "      <td>0.0662</td>\n",
              "      <td>368.45</td>\n",
              "      <td>A</td>\n",
              "      <td>2013-12-01T00:00</td>\n",
              "      <td>debt_consolidation</td>\n",
              "      <td>0.0</td>\n",
              "      <td>12000.0</td>\n",
              "      <td>1263.95</td>\n",
              "      <td>0.0</td>\n",
              "      <td>0.0</td>\n",
              "      <td>2017-01-01T00:00</td>\n",
              "      <td>2017-02-01T00:00</td>\n",
              "      <td>0</td>\n",
              "      <td>COMPLETED</td>\n",
              "      <td>Lending Club</td>\n",
              "    </tr>\n",
              "  </tbody>\n",
              "</table>\n",
              "</div>"
            ],
            "text/plain": [
              "   loan_number  amount_borrowed  ...  loan_status_description   data_source\n",
              "0     10149342          27050.0  ...                COMPLETED  Lending Club\n",
              "1     10149488           4800.0  ...                COMPLETED  Lending Club\n",
              "2     10148122          12000.0  ...                COMPLETED  Lending Club\n",
              "3     10119623          12000.0  ...                COMPLETED  Lending Club\n",
              "4     10159498          12000.0  ...                COMPLETED  Lending Club\n",
              "\n",
              "[5 rows x 18 columns]"
            ]
          },
          "metadata": {
            "tags": []
          },
          "execution_count": 16
        }
      ]
    },
    {
      "cell_type": "markdown",
      "metadata": {
        "id": "n7LqKP98JEXl"
      },
      "source": [
        "**Dropping Rows with Completed and Current loan_status_description**"
      ]
    },
    {
      "cell_type": "markdown",
      "metadata": {
        "id": "8arn9N1kENpF"
      },
      "source": [
        "Here, I will remove the current and cancelled, as we can predict whether the current and cancelled loans would fall into completed, current or defaulted category."
      ]
    },
    {
      "cell_type": "code",
      "metadata": {
        "id": "_1Sp3-LsI_y1"
      },
      "source": [
        "df = df[((df['loan_status_description'] != 'CURRENT') & (df['loan_status_description'] != 'CANCELLED'))]"
      ],
      "execution_count": 17,
      "outputs": []
    },
    {
      "cell_type": "code",
      "metadata": {
        "colab": {
          "base_uri": "https://localhost:8080/"
        },
        "id": "G7CXE0sUNnNu",
        "outputId": "14efa1eb-bb14-44ef-f5fa-f92230960328"
      },
      "source": [
        "df['loan_status_description'].value_counts()"
      ],
      "execution_count": 18,
      "outputs": [
        {
          "output_type": "execute_result",
          "data": {
            "text/plain": [
              "COMPLETED    1173162\n",
              "CHARGEOFF     222867\n",
              "DEFAULTED      95344\n",
              "Name: loan_status_description, dtype: int64"
            ]
          },
          "metadata": {
            "tags": []
          },
          "execution_count": 18
        }
      ]
    },
    {
      "cell_type": "markdown",
      "metadata": {
        "id": "pgwBwayfQb_h"
      },
      "source": [
        "**Converting loan_status_description (String) to numerical**"
      ]
    },
    {
      "cell_type": "code",
      "metadata": {
        "id": "QuGufc2VQYPk"
      },
      "source": [
        "df['loan_status_description'] = df['loan_status_description'].map({'COMPLETED':0, 'CHARGEOFF':1, 'DEFAULTED':2})"
      ],
      "execution_count": 19,
      "outputs": []
    },
    {
      "cell_type": "code",
      "metadata": {
        "colab": {
          "base_uri": "https://localhost:8080/"
        },
        "id": "xlH-r-QfR5zb",
        "outputId": "66517e8c-3bbf-439c-99e2-ec35ce54087a"
      },
      "source": [
        "df['loan_status_description'].value_counts()"
      ],
      "execution_count": 20,
      "outputs": [
        {
          "output_type": "execute_result",
          "data": {
            "text/plain": [
              "0    1173162\n",
              "1     222867\n",
              "2      95344\n",
              "Name: loan_status_description, dtype: int64"
            ]
          },
          "metadata": {
            "tags": []
          },
          "execution_count": 20
        }
      ]
    },
    {
      "cell_type": "markdown",
      "metadata": {
        "id": "QteprgXFudIZ"
      },
      "source": [
        "**Checking Null Values**"
      ]
    },
    {
      "cell_type": "code",
      "metadata": {
        "id": "okhvQgjnR70a",
        "colab": {
          "base_uri": "https://localhost:8080/"
        },
        "outputId": "7dfb7fd7-3a1d-480b-ec3a-732421d1ad80"
      },
      "source": [
        "df.isnull().sum()"
      ],
      "execution_count": 21,
      "outputs": [
        {
          "output_type": "execute_result",
          "data": {
            "text/plain": [
              "loan_number                         0\n",
              "amount_borrowed                     0\n",
              "term                                0\n",
              "borrower_rate                       0\n",
              "installment                         0\n",
              "grade                               0\n",
              "origination_date                    0\n",
              "listing_title                  487360\n",
              "principal_balance                   0\n",
              "principal_paid                      0\n",
              "interest_paid                       0\n",
              "late_fees_paid                      0\n",
              "debt_sale_proceeds_received         0\n",
              "last_payment_date                   0\n",
              "next_payment_due_date               0\n",
              "days_past_due                       0\n",
              "loan_status_description             0\n",
              "data_source                         0\n",
              "dtype: int64"
            ]
          },
          "metadata": {
            "tags": []
          },
          "execution_count": 21
        }
      ]
    },
    {
      "cell_type": "markdown",
      "metadata": {
        "id": "ySpmhMEfwiaL"
      },
      "source": [
        "**Checking Null Value Percentage**"
      ]
    },
    {
      "cell_type": "code",
      "metadata": {
        "colab": {
          "base_uri": "https://localhost:8080/"
        },
        "id": "14xKaNRsuhJx",
        "outputId": "d002df13-8029-4f23-df77-d00fed36d42b"
      },
      "source": [
        "(df.isnull().sum()/df.shape[0])*100"
      ],
      "execution_count": 22,
      "outputs": [
        {
          "output_type": "execute_result",
          "data": {
            "text/plain": [
              "loan_number                     0.000000\n",
              "amount_borrowed                 0.000000\n",
              "term                            0.000000\n",
              "borrower_rate                   0.000000\n",
              "installment                     0.000000\n",
              "grade                           0.000000\n",
              "origination_date                0.000000\n",
              "listing_title                  32.678612\n",
              "principal_balance               0.000000\n",
              "principal_paid                  0.000000\n",
              "interest_paid                   0.000000\n",
              "late_fees_paid                  0.000000\n",
              "debt_sale_proceeds_received     0.000000\n",
              "last_payment_date               0.000000\n",
              "next_payment_due_date           0.000000\n",
              "days_past_due                   0.000000\n",
              "loan_status_description         0.000000\n",
              "data_source                     0.000000\n",
              "dtype: float64"
            ]
          },
          "metadata": {
            "tags": []
          },
          "execution_count": 22
        }
      ]
    },
    {
      "cell_type": "markdown",
      "metadata": {
        "id": "4rADp16UyWlg"
      },
      "source": [
        "**Handling Null Values of listing_title Feature**"
      ]
    },
    {
      "cell_type": "markdown",
      "metadata": {
        "id": "ifPK3CddyXrs"
      },
      "source": [
        "Here we will consider all Null values in listing_title as 'other'."
      ]
    },
    {
      "cell_type": "code",
      "metadata": {
        "colab": {
          "base_uri": "https://localhost:8080/"
        },
        "id": "ohSOKFX0ulXQ",
        "outputId": "3161f214-d16a-4ccc-b5bf-8100c6dac090"
      },
      "source": [
        "df['listing_title'].value_counts()"
      ],
      "execution_count": 23,
      "outputs": [
        {
          "output_type": "execute_result",
          "data": {
            "text/plain": [
              "debt_consolidation    595511\n",
              "credit_card           218391\n",
              "home_improvement       63750\n",
              "other                  54010\n",
              "major_purchase         20235\n",
              "medical                10944\n",
              "small_business         10909\n",
              "car                    10001\n",
              "moving                  6723\n",
              "vacation                6511\n",
              "house                   4924\n",
              "wedding                 1459\n",
              "renewable_energy         644\n",
              "educational                1\n",
              "Name: listing_title, dtype: int64"
            ]
          },
          "metadata": {
            "tags": []
          },
          "execution_count": 23
        }
      ]
    },
    {
      "cell_type": "code",
      "metadata": {
        "id": "oUCxmCfHyVF4"
      },
      "source": [
        "df['listing_title'].fillna(value = 'other', inplace = True)"
      ],
      "execution_count": 24,
      "outputs": []
    },
    {
      "cell_type": "code",
      "metadata": {
        "colab": {
          "base_uri": "https://localhost:8080/"
        },
        "id": "cqIgeeD20oKB",
        "outputId": "226482a8-a90b-427c-850d-394a6a74fd3e"
      },
      "source": [
        "df['listing_title'].value_counts()"
      ],
      "execution_count": 25,
      "outputs": [
        {
          "output_type": "execute_result",
          "data": {
            "text/plain": [
              "debt_consolidation    595511\n",
              "other                 541370\n",
              "credit_card           218391\n",
              "home_improvement       63750\n",
              "major_purchase         20235\n",
              "medical                10944\n",
              "small_business         10909\n",
              "car                    10001\n",
              "moving                  6723\n",
              "vacation                6511\n",
              "house                   4924\n",
              "wedding                 1459\n",
              "renewable_energy         644\n",
              "educational                1\n",
              "Name: listing_title, dtype: int64"
            ]
          },
          "metadata": {
            "tags": []
          },
          "execution_count": 25
        }
      ]
    },
    {
      "cell_type": "code",
      "metadata": {
        "colab": {
          "base_uri": "https://localhost:8080/"
        },
        "id": "xVF65OIu0q4p",
        "outputId": "dddbc867-6935-4f61-8ce1-559470f76dd8"
      },
      "source": [
        "df.isnull().sum()"
      ],
      "execution_count": 26,
      "outputs": [
        {
          "output_type": "execute_result",
          "data": {
            "text/plain": [
              "loan_number                    0\n",
              "amount_borrowed                0\n",
              "term                           0\n",
              "borrower_rate                  0\n",
              "installment                    0\n",
              "grade                          0\n",
              "origination_date               0\n",
              "listing_title                  0\n",
              "principal_balance              0\n",
              "principal_paid                 0\n",
              "interest_paid                  0\n",
              "late_fees_paid                 0\n",
              "debt_sale_proceeds_received    0\n",
              "last_payment_date              0\n",
              "next_payment_due_date          0\n",
              "days_past_due                  0\n",
              "loan_status_description        0\n",
              "data_source                    0\n",
              "dtype: int64"
            ]
          },
          "metadata": {
            "tags": []
          },
          "execution_count": 26
        }
      ]
    },
    {
      "cell_type": "markdown",
      "metadata": {
        "id": "hDhMr3a0258J"
      },
      "source": [
        "**Dataset Categorical Columns**"
      ]
    },
    {
      "cell_type": "code",
      "metadata": {
        "colab": {
          "base_uri": "https://localhost:8080/"
        },
        "id": "g45_6Vac2G4i",
        "outputId": "f9eb053e-27fc-4abe-da5b-5e39c3095c05"
      },
      "source": [
        "df.dtypes[df.dtypes == object]"
      ],
      "execution_count": 27,
      "outputs": [
        {
          "output_type": "execute_result",
          "data": {
            "text/plain": [
              "grade                    object\n",
              "origination_date         object\n",
              "listing_title            object\n",
              "last_payment_date        object\n",
              "next_payment_due_date    object\n",
              "data_source              object\n",
              "dtype: object"
            ]
          },
          "metadata": {
            "tags": []
          },
          "execution_count": 27
        }
      ]
    },
    {
      "cell_type": "markdown",
      "metadata": {
        "id": "DXS9TaHc4ckH"
      },
      "source": [
        "Here we will drop loan origination_date, as we do not know yet if the loan is approved or not.\n",
        "\n",
        "Also, we will be removing last_payment_date because every loan can have same or different dates, and it will not help in categorizing loan_status_description.\n",
        "\n",
        "next_payment_due_date will be no use if loan_status is completed, defaulted or charged_off"
      ]
    },
    {
      "cell_type": "code",
      "metadata": {
        "id": "_y9w_ByN3EzL"
      },
      "source": [
        "df.drop(columns=['origination_date', 'last_payment_date', 'next_payment_due_date'], inplace=True)"
      ],
      "execution_count": 28,
      "outputs": []
    },
    {
      "cell_type": "markdown",
      "metadata": {
        "id": "4Z1_9tWajNWx"
      },
      "source": [
        "**Converting grade, listing_title, data_source into dummy variable**"
      ]
    },
    {
      "cell_type": "code",
      "metadata": {
        "id": "KmaQ831c31CF"
      },
      "source": [
        "df = pd.get_dummies(df, columns = ['grade', 'listing_title', 'data_source'], drop_first = True)"
      ],
      "execution_count": 29,
      "outputs": []
    },
    {
      "cell_type": "code",
      "metadata": {
        "colab": {
          "base_uri": "https://localhost:8080/",
          "height": 443
        },
        "id": "xy8AnSynTakt",
        "outputId": "ef602632-7545-4a71-cdfe-a7136ea7811b"
      },
      "source": [
        "df"
      ],
      "execution_count": 30,
      "outputs": [
        {
          "output_type": "execute_result",
          "data": {
            "text/html": [
              "<div>\n",
              "<style scoped>\n",
              "    .dataframe tbody tr th:only-of-type {\n",
              "        vertical-align: middle;\n",
              "    }\n",
              "\n",
              "    .dataframe tbody tr th {\n",
              "        vertical-align: top;\n",
              "    }\n",
              "\n",
              "    .dataframe thead th {\n",
              "        text-align: right;\n",
              "    }\n",
              "</style>\n",
              "<table border=\"1\" class=\"dataframe\">\n",
              "  <thead>\n",
              "    <tr style=\"text-align: right;\">\n",
              "      <th></th>\n",
              "      <th>loan_number</th>\n",
              "      <th>amount_borrowed</th>\n",
              "      <th>term</th>\n",
              "      <th>borrower_rate</th>\n",
              "      <th>installment</th>\n",
              "      <th>principal_balance</th>\n",
              "      <th>principal_paid</th>\n",
              "      <th>interest_paid</th>\n",
              "      <th>late_fees_paid</th>\n",
              "      <th>debt_sale_proceeds_received</th>\n",
              "      <th>days_past_due</th>\n",
              "      <th>loan_status_description</th>\n",
              "      <th>grade_B</th>\n",
              "      <th>grade_C</th>\n",
              "      <th>grade_D</th>\n",
              "      <th>grade_E</th>\n",
              "      <th>grade_F</th>\n",
              "      <th>grade_G</th>\n",
              "      <th>listing_title_credit_card</th>\n",
              "      <th>listing_title_debt_consolidation</th>\n",
              "      <th>listing_title_educational</th>\n",
              "      <th>listing_title_home_improvement</th>\n",
              "      <th>listing_title_house</th>\n",
              "      <th>listing_title_major_purchase</th>\n",
              "      <th>listing_title_medical</th>\n",
              "      <th>listing_title_moving</th>\n",
              "      <th>listing_title_other</th>\n",
              "      <th>listing_title_renewable_energy</th>\n",
              "      <th>listing_title_small_business</th>\n",
              "      <th>listing_title_vacation</th>\n",
              "      <th>listing_title_wedding</th>\n",
              "      <th>data_source_Prosper</th>\n",
              "    </tr>\n",
              "  </thead>\n",
              "  <tbody>\n",
              "    <tr>\n",
              "      <th>0</th>\n",
              "      <td>10149342</td>\n",
              "      <td>27050.0</td>\n",
              "      <td>36</td>\n",
              "      <td>0.1099</td>\n",
              "      <td>885.460000</td>\n",
              "      <td>0.0</td>\n",
              "      <td>27050.0</td>\n",
              "      <td>4702.53</td>\n",
              "      <td>0.0</td>\n",
              "      <td>0.0</td>\n",
              "      <td>0</td>\n",
              "      <td>0</td>\n",
              "      <td>1</td>\n",
              "      <td>0</td>\n",
              "      <td>0</td>\n",
              "      <td>0</td>\n",
              "      <td>0</td>\n",
              "      <td>0</td>\n",
              "      <td>0</td>\n",
              "      <td>1</td>\n",
              "      <td>0</td>\n",
              "      <td>0</td>\n",
              "      <td>0</td>\n",
              "      <td>0</td>\n",
              "      <td>0</td>\n",
              "      <td>0</td>\n",
              "      <td>0</td>\n",
              "      <td>0</td>\n",
              "      <td>0</td>\n",
              "      <td>0</td>\n",
              "      <td>0</td>\n",
              "      <td>0</td>\n",
              "    </tr>\n",
              "    <tr>\n",
              "      <th>1</th>\n",
              "      <td>10149488</td>\n",
              "      <td>4800.0</td>\n",
              "      <td>36</td>\n",
              "      <td>0.1099</td>\n",
              "      <td>157.130000</td>\n",
              "      <td>0.0</td>\n",
              "      <td>4800.0</td>\n",
              "      <td>357.52</td>\n",
              "      <td>0.0</td>\n",
              "      <td>0.0</td>\n",
              "      <td>0</td>\n",
              "      <td>0</td>\n",
              "      <td>1</td>\n",
              "      <td>0</td>\n",
              "      <td>0</td>\n",
              "      <td>0</td>\n",
              "      <td>0</td>\n",
              "      <td>0</td>\n",
              "      <td>0</td>\n",
              "      <td>0</td>\n",
              "      <td>0</td>\n",
              "      <td>1</td>\n",
              "      <td>0</td>\n",
              "      <td>0</td>\n",
              "      <td>0</td>\n",
              "      <td>0</td>\n",
              "      <td>0</td>\n",
              "      <td>0</td>\n",
              "      <td>0</td>\n",
              "      <td>0</td>\n",
              "      <td>0</td>\n",
              "      <td>0</td>\n",
              "    </tr>\n",
              "    <tr>\n",
              "      <th>2</th>\n",
              "      <td>10148122</td>\n",
              "      <td>12000.0</td>\n",
              "      <td>36</td>\n",
              "      <td>0.0762</td>\n",
              "      <td>373.940000</td>\n",
              "      <td>0.0</td>\n",
              "      <td>12000.0</td>\n",
              "      <td>1397.54</td>\n",
              "      <td>0.0</td>\n",
              "      <td>0.0</td>\n",
              "      <td>0</td>\n",
              "      <td>0</td>\n",
              "      <td>0</td>\n",
              "      <td>0</td>\n",
              "      <td>0</td>\n",
              "      <td>0</td>\n",
              "      <td>0</td>\n",
              "      <td>0</td>\n",
              "      <td>0</td>\n",
              "      <td>1</td>\n",
              "      <td>0</td>\n",
              "      <td>0</td>\n",
              "      <td>0</td>\n",
              "      <td>0</td>\n",
              "      <td>0</td>\n",
              "      <td>0</td>\n",
              "      <td>0</td>\n",
              "      <td>0</td>\n",
              "      <td>0</td>\n",
              "      <td>0</td>\n",
              "      <td>0</td>\n",
              "      <td>0</td>\n",
              "    </tr>\n",
              "    <tr>\n",
              "      <th>3</th>\n",
              "      <td>10119623</td>\n",
              "      <td>12000.0</td>\n",
              "      <td>36</td>\n",
              "      <td>0.1199</td>\n",
              "      <td>398.520000</td>\n",
              "      <td>0.0</td>\n",
              "      <td>12000.0</td>\n",
              "      <td>2346.48</td>\n",
              "      <td>0.0</td>\n",
              "      <td>0.0</td>\n",
              "      <td>0</td>\n",
              "      <td>0</td>\n",
              "      <td>1</td>\n",
              "      <td>0</td>\n",
              "      <td>0</td>\n",
              "      <td>0</td>\n",
              "      <td>0</td>\n",
              "      <td>0</td>\n",
              "      <td>0</td>\n",
              "      <td>1</td>\n",
              "      <td>0</td>\n",
              "      <td>0</td>\n",
              "      <td>0</td>\n",
              "      <td>0</td>\n",
              "      <td>0</td>\n",
              "      <td>0</td>\n",
              "      <td>0</td>\n",
              "      <td>0</td>\n",
              "      <td>0</td>\n",
              "      <td>0</td>\n",
              "      <td>0</td>\n",
              "      <td>0</td>\n",
              "    </tr>\n",
              "    <tr>\n",
              "      <th>4</th>\n",
              "      <td>10159498</td>\n",
              "      <td>12000.0</td>\n",
              "      <td>36</td>\n",
              "      <td>0.0662</td>\n",
              "      <td>368.450000</td>\n",
              "      <td>0.0</td>\n",
              "      <td>12000.0</td>\n",
              "      <td>1263.95</td>\n",
              "      <td>0.0</td>\n",
              "      <td>0.0</td>\n",
              "      <td>0</td>\n",
              "      <td>0</td>\n",
              "      <td>0</td>\n",
              "      <td>0</td>\n",
              "      <td>0</td>\n",
              "      <td>0</td>\n",
              "      <td>0</td>\n",
              "      <td>0</td>\n",
              "      <td>0</td>\n",
              "      <td>1</td>\n",
              "      <td>0</td>\n",
              "      <td>0</td>\n",
              "      <td>0</td>\n",
              "      <td>0</td>\n",
              "      <td>0</td>\n",
              "      <td>0</td>\n",
              "      <td>0</td>\n",
              "      <td>0</td>\n",
              "      <td>0</td>\n",
              "      <td>0</td>\n",
              "      <td>0</td>\n",
              "      <td>0</td>\n",
              "    </tr>\n",
              "    <tr>\n",
              "      <th>...</th>\n",
              "      <td>...</td>\n",
              "      <td>...</td>\n",
              "      <td>...</td>\n",
              "      <td>...</td>\n",
              "      <td>...</td>\n",
              "      <td>...</td>\n",
              "      <td>...</td>\n",
              "      <td>...</td>\n",
              "      <td>...</td>\n",
              "      <td>...</td>\n",
              "      <td>...</td>\n",
              "      <td>...</td>\n",
              "      <td>...</td>\n",
              "      <td>...</td>\n",
              "      <td>...</td>\n",
              "      <td>...</td>\n",
              "      <td>...</td>\n",
              "      <td>...</td>\n",
              "      <td>...</td>\n",
              "      <td>...</td>\n",
              "      <td>...</td>\n",
              "      <td>...</td>\n",
              "      <td>...</td>\n",
              "      <td>...</td>\n",
              "      <td>...</td>\n",
              "      <td>...</td>\n",
              "      <td>...</td>\n",
              "      <td>...</td>\n",
              "      <td>...</td>\n",
              "      <td>...</td>\n",
              "      <td>...</td>\n",
              "      <td>...</td>\n",
              "    </tr>\n",
              "    <tr>\n",
              "      <th>2874654</th>\n",
              "      <td>1080060</td>\n",
              "      <td>20000.0</td>\n",
              "      <td>36</td>\n",
              "      <td>0.0839</td>\n",
              "      <td>630.331835</td>\n",
              "      <td>0.0</td>\n",
              "      <td>20000.0</td>\n",
              "      <td>218.63</td>\n",
              "      <td>0.0</td>\n",
              "      <td>0.0</td>\n",
              "      <td>0</td>\n",
              "      <td>0</td>\n",
              "      <td>1</td>\n",
              "      <td>0</td>\n",
              "      <td>0</td>\n",
              "      <td>0</td>\n",
              "      <td>0</td>\n",
              "      <td>0</td>\n",
              "      <td>0</td>\n",
              "      <td>0</td>\n",
              "      <td>0</td>\n",
              "      <td>0</td>\n",
              "      <td>0</td>\n",
              "      <td>0</td>\n",
              "      <td>0</td>\n",
              "      <td>0</td>\n",
              "      <td>1</td>\n",
              "      <td>0</td>\n",
              "      <td>0</td>\n",
              "      <td>0</td>\n",
              "      <td>0</td>\n",
              "      <td>1</td>\n",
              "    </tr>\n",
              "    <tr>\n",
              "      <th>2874846</th>\n",
              "      <td>1073951</td>\n",
              "      <td>6000.0</td>\n",
              "      <td>36</td>\n",
              "      <td>0.0894</td>\n",
              "      <td>190.630891</td>\n",
              "      <td>0.0</td>\n",
              "      <td>6000.0</td>\n",
              "      <td>0.51</td>\n",
              "      <td>0.0</td>\n",
              "      <td>0.0</td>\n",
              "      <td>0</td>\n",
              "      <td>0</td>\n",
              "      <td>1</td>\n",
              "      <td>0</td>\n",
              "      <td>0</td>\n",
              "      <td>0</td>\n",
              "      <td>0</td>\n",
              "      <td>0</td>\n",
              "      <td>0</td>\n",
              "      <td>0</td>\n",
              "      <td>0</td>\n",
              "      <td>0</td>\n",
              "      <td>0</td>\n",
              "      <td>0</td>\n",
              "      <td>0</td>\n",
              "      <td>0</td>\n",
              "      <td>1</td>\n",
              "      <td>0</td>\n",
              "      <td>0</td>\n",
              "      <td>0</td>\n",
              "      <td>0</td>\n",
              "      <td>1</td>\n",
              "    </tr>\n",
              "    <tr>\n",
              "      <th>2874929</th>\n",
              "      <td>1073195</td>\n",
              "      <td>6000.0</td>\n",
              "      <td>36</td>\n",
              "      <td>0.2784</td>\n",
              "      <td>247.663171</td>\n",
              "      <td>0.0</td>\n",
              "      <td>6000.0</td>\n",
              "      <td>64.07</td>\n",
              "      <td>0.0</td>\n",
              "      <td>0.0</td>\n",
              "      <td>0</td>\n",
              "      <td>0</td>\n",
              "      <td>0</td>\n",
              "      <td>0</td>\n",
              "      <td>0</td>\n",
              "      <td>0</td>\n",
              "      <td>1</td>\n",
              "      <td>0</td>\n",
              "      <td>0</td>\n",
              "      <td>0</td>\n",
              "      <td>0</td>\n",
              "      <td>0</td>\n",
              "      <td>0</td>\n",
              "      <td>0</td>\n",
              "      <td>0</td>\n",
              "      <td>0</td>\n",
              "      <td>1</td>\n",
              "      <td>0</td>\n",
              "      <td>0</td>\n",
              "      <td>0</td>\n",
              "      <td>0</td>\n",
              "      <td>1</td>\n",
              "    </tr>\n",
              "    <tr>\n",
              "      <th>2875013</th>\n",
              "      <td>1081659</td>\n",
              "      <td>15000.0</td>\n",
              "      <td>36</td>\n",
              "      <td>0.2644</td>\n",
              "      <td>607.880629</td>\n",
              "      <td>0.0</td>\n",
              "      <td>15000.0</td>\n",
              "      <td>528.54</td>\n",
              "      <td>0.0</td>\n",
              "      <td>0.0</td>\n",
              "      <td>0</td>\n",
              "      <td>0</td>\n",
              "      <td>0</td>\n",
              "      <td>0</td>\n",
              "      <td>0</td>\n",
              "      <td>1</td>\n",
              "      <td>0</td>\n",
              "      <td>0</td>\n",
              "      <td>0</td>\n",
              "      <td>0</td>\n",
              "      <td>0</td>\n",
              "      <td>0</td>\n",
              "      <td>0</td>\n",
              "      <td>0</td>\n",
              "      <td>0</td>\n",
              "      <td>0</td>\n",
              "      <td>1</td>\n",
              "      <td>0</td>\n",
              "      <td>0</td>\n",
              "      <td>0</td>\n",
              "      <td>0</td>\n",
              "      <td>1</td>\n",
              "    </tr>\n",
              "    <tr>\n",
              "      <th>2875079</th>\n",
              "      <td>1074338</td>\n",
              "      <td>10000.0</td>\n",
              "      <td>36</td>\n",
              "      <td>0.1444</td>\n",
              "      <td>343.917227</td>\n",
              "      <td>0.0</td>\n",
              "      <td>10000.0</td>\n",
              "      <td>207.63</td>\n",
              "      <td>0.0</td>\n",
              "      <td>0.0</td>\n",
              "      <td>0</td>\n",
              "      <td>0</td>\n",
              "      <td>0</td>\n",
              "      <td>1</td>\n",
              "      <td>0</td>\n",
              "      <td>0</td>\n",
              "      <td>0</td>\n",
              "      <td>0</td>\n",
              "      <td>0</td>\n",
              "      <td>0</td>\n",
              "      <td>0</td>\n",
              "      <td>0</td>\n",
              "      <td>0</td>\n",
              "      <td>0</td>\n",
              "      <td>0</td>\n",
              "      <td>0</td>\n",
              "      <td>1</td>\n",
              "      <td>0</td>\n",
              "      <td>0</td>\n",
              "      <td>0</td>\n",
              "      <td>0</td>\n",
              "      <td>1</td>\n",
              "    </tr>\n",
              "  </tbody>\n",
              "</table>\n",
              "<p>1491373 rows × 32 columns</p>\n",
              "</div>"
            ],
            "text/plain": [
              "         loan_number  ...  data_source_Prosper\n",
              "0           10149342  ...                    0\n",
              "1           10149488  ...                    0\n",
              "2           10148122  ...                    0\n",
              "3           10119623  ...                    0\n",
              "4           10159498  ...                    0\n",
              "...              ...  ...                  ...\n",
              "2874654      1080060  ...                    1\n",
              "2874846      1073951  ...                    1\n",
              "2874929      1073195  ...                    1\n",
              "2875013      1081659  ...                    1\n",
              "2875079      1074338  ...                    1\n",
              "\n",
              "[1491373 rows x 32 columns]"
            ]
          },
          "metadata": {
            "tags": []
          },
          "execution_count": 30
        }
      ]
    },
    {
      "cell_type": "markdown",
      "metadata": {
        "id": "uRsFwLU_lDHI"
      },
      "source": [
        "**Dataset Continous Variables**"
      ]
    },
    {
      "cell_type": "markdown",
      "metadata": {
        "id": "pWbln5cimGtv"
      },
      "source": [
        "Every loan has a unique loan_number, and can be removed."
      ]
    },
    {
      "cell_type": "code",
      "metadata": {
        "id": "3D59bezeTh7k"
      },
      "source": [
        "df.drop('loan_number', inplace=True, axis=1)"
      ],
      "execution_count": 31,
      "outputs": []
    },
    {
      "cell_type": "markdown",
      "metadata": {
        "id": "8SDJkeiCnLuC"
      },
      "source": [
        "**Converting term into dummy variable**"
      ]
    },
    {
      "cell_type": "code",
      "metadata": {
        "colab": {
          "base_uri": "https://localhost:8080/"
        },
        "id": "elsNAWdjo3zg",
        "outputId": "64fdad60-4c73-42c4-b2a3-1971812974ff"
      },
      "source": [
        "df.term.value_counts()"
      ],
      "execution_count": 32,
      "outputs": [
        {
          "output_type": "execute_result",
          "data": {
            "text/plain": [
              "36    1126468\n",
              "60     364633\n",
              "12        272\n",
              "Name: term, dtype: int64"
            ]
          },
          "metadata": {
            "tags": []
          },
          "execution_count": 32
        }
      ]
    },
    {
      "cell_type": "markdown",
      "metadata": {
        "id": "J9OvEm6hprvS"
      },
      "source": [
        "As term has only three values, it can be converted to dummy variable."
      ]
    },
    {
      "cell_type": "code",
      "metadata": {
        "id": "GZ86DN2-m0bW"
      },
      "source": [
        "df = pd.get_dummies(df, columns=['term'], drop_first=True)"
      ],
      "execution_count": 33,
      "outputs": []
    },
    {
      "cell_type": "code",
      "metadata": {
        "colab": {
          "base_uri": "https://localhost:8080/",
          "height": 226
        },
        "id": "joI43qNam20-",
        "outputId": "e511c8cb-d007-4ebd-f999-07f6f9806944"
      },
      "source": [
        "df.head()"
      ],
      "execution_count": 34,
      "outputs": [
        {
          "output_type": "execute_result",
          "data": {
            "text/html": [
              "<div>\n",
              "<style scoped>\n",
              "    .dataframe tbody tr th:only-of-type {\n",
              "        vertical-align: middle;\n",
              "    }\n",
              "\n",
              "    .dataframe tbody tr th {\n",
              "        vertical-align: top;\n",
              "    }\n",
              "\n",
              "    .dataframe thead th {\n",
              "        text-align: right;\n",
              "    }\n",
              "</style>\n",
              "<table border=\"1\" class=\"dataframe\">\n",
              "  <thead>\n",
              "    <tr style=\"text-align: right;\">\n",
              "      <th></th>\n",
              "      <th>amount_borrowed</th>\n",
              "      <th>borrower_rate</th>\n",
              "      <th>installment</th>\n",
              "      <th>principal_balance</th>\n",
              "      <th>principal_paid</th>\n",
              "      <th>interest_paid</th>\n",
              "      <th>late_fees_paid</th>\n",
              "      <th>debt_sale_proceeds_received</th>\n",
              "      <th>days_past_due</th>\n",
              "      <th>loan_status_description</th>\n",
              "      <th>grade_B</th>\n",
              "      <th>grade_C</th>\n",
              "      <th>grade_D</th>\n",
              "      <th>grade_E</th>\n",
              "      <th>grade_F</th>\n",
              "      <th>grade_G</th>\n",
              "      <th>listing_title_credit_card</th>\n",
              "      <th>listing_title_debt_consolidation</th>\n",
              "      <th>listing_title_educational</th>\n",
              "      <th>listing_title_home_improvement</th>\n",
              "      <th>listing_title_house</th>\n",
              "      <th>listing_title_major_purchase</th>\n",
              "      <th>listing_title_medical</th>\n",
              "      <th>listing_title_moving</th>\n",
              "      <th>listing_title_other</th>\n",
              "      <th>listing_title_renewable_energy</th>\n",
              "      <th>listing_title_small_business</th>\n",
              "      <th>listing_title_vacation</th>\n",
              "      <th>listing_title_wedding</th>\n",
              "      <th>data_source_Prosper</th>\n",
              "      <th>term_36</th>\n",
              "      <th>term_60</th>\n",
              "    </tr>\n",
              "  </thead>\n",
              "  <tbody>\n",
              "    <tr>\n",
              "      <th>0</th>\n",
              "      <td>27050.0</td>\n",
              "      <td>0.1099</td>\n",
              "      <td>885.46</td>\n",
              "      <td>0.0</td>\n",
              "      <td>27050.0</td>\n",
              "      <td>4702.53</td>\n",
              "      <td>0.0</td>\n",
              "      <td>0.0</td>\n",
              "      <td>0</td>\n",
              "      <td>0</td>\n",
              "      <td>1</td>\n",
              "      <td>0</td>\n",
              "      <td>0</td>\n",
              "      <td>0</td>\n",
              "      <td>0</td>\n",
              "      <td>0</td>\n",
              "      <td>0</td>\n",
              "      <td>1</td>\n",
              "      <td>0</td>\n",
              "      <td>0</td>\n",
              "      <td>0</td>\n",
              "      <td>0</td>\n",
              "      <td>0</td>\n",
              "      <td>0</td>\n",
              "      <td>0</td>\n",
              "      <td>0</td>\n",
              "      <td>0</td>\n",
              "      <td>0</td>\n",
              "      <td>0</td>\n",
              "      <td>0</td>\n",
              "      <td>1</td>\n",
              "      <td>0</td>\n",
              "    </tr>\n",
              "    <tr>\n",
              "      <th>1</th>\n",
              "      <td>4800.0</td>\n",
              "      <td>0.1099</td>\n",
              "      <td>157.13</td>\n",
              "      <td>0.0</td>\n",
              "      <td>4800.0</td>\n",
              "      <td>357.52</td>\n",
              "      <td>0.0</td>\n",
              "      <td>0.0</td>\n",
              "      <td>0</td>\n",
              "      <td>0</td>\n",
              "      <td>1</td>\n",
              "      <td>0</td>\n",
              "      <td>0</td>\n",
              "      <td>0</td>\n",
              "      <td>0</td>\n",
              "      <td>0</td>\n",
              "      <td>0</td>\n",
              "      <td>0</td>\n",
              "      <td>0</td>\n",
              "      <td>1</td>\n",
              "      <td>0</td>\n",
              "      <td>0</td>\n",
              "      <td>0</td>\n",
              "      <td>0</td>\n",
              "      <td>0</td>\n",
              "      <td>0</td>\n",
              "      <td>0</td>\n",
              "      <td>0</td>\n",
              "      <td>0</td>\n",
              "      <td>0</td>\n",
              "      <td>1</td>\n",
              "      <td>0</td>\n",
              "    </tr>\n",
              "    <tr>\n",
              "      <th>2</th>\n",
              "      <td>12000.0</td>\n",
              "      <td>0.0762</td>\n",
              "      <td>373.94</td>\n",
              "      <td>0.0</td>\n",
              "      <td>12000.0</td>\n",
              "      <td>1397.54</td>\n",
              "      <td>0.0</td>\n",
              "      <td>0.0</td>\n",
              "      <td>0</td>\n",
              "      <td>0</td>\n",
              "      <td>0</td>\n",
              "      <td>0</td>\n",
              "      <td>0</td>\n",
              "      <td>0</td>\n",
              "      <td>0</td>\n",
              "      <td>0</td>\n",
              "      <td>0</td>\n",
              "      <td>1</td>\n",
              "      <td>0</td>\n",
              "      <td>0</td>\n",
              "      <td>0</td>\n",
              "      <td>0</td>\n",
              "      <td>0</td>\n",
              "      <td>0</td>\n",
              "      <td>0</td>\n",
              "      <td>0</td>\n",
              "      <td>0</td>\n",
              "      <td>0</td>\n",
              "      <td>0</td>\n",
              "      <td>0</td>\n",
              "      <td>1</td>\n",
              "      <td>0</td>\n",
              "    </tr>\n",
              "    <tr>\n",
              "      <th>3</th>\n",
              "      <td>12000.0</td>\n",
              "      <td>0.1199</td>\n",
              "      <td>398.52</td>\n",
              "      <td>0.0</td>\n",
              "      <td>12000.0</td>\n",
              "      <td>2346.48</td>\n",
              "      <td>0.0</td>\n",
              "      <td>0.0</td>\n",
              "      <td>0</td>\n",
              "      <td>0</td>\n",
              "      <td>1</td>\n",
              "      <td>0</td>\n",
              "      <td>0</td>\n",
              "      <td>0</td>\n",
              "      <td>0</td>\n",
              "      <td>0</td>\n",
              "      <td>0</td>\n",
              "      <td>1</td>\n",
              "      <td>0</td>\n",
              "      <td>0</td>\n",
              "      <td>0</td>\n",
              "      <td>0</td>\n",
              "      <td>0</td>\n",
              "      <td>0</td>\n",
              "      <td>0</td>\n",
              "      <td>0</td>\n",
              "      <td>0</td>\n",
              "      <td>0</td>\n",
              "      <td>0</td>\n",
              "      <td>0</td>\n",
              "      <td>1</td>\n",
              "      <td>0</td>\n",
              "    </tr>\n",
              "    <tr>\n",
              "      <th>4</th>\n",
              "      <td>12000.0</td>\n",
              "      <td>0.0662</td>\n",
              "      <td>368.45</td>\n",
              "      <td>0.0</td>\n",
              "      <td>12000.0</td>\n",
              "      <td>1263.95</td>\n",
              "      <td>0.0</td>\n",
              "      <td>0.0</td>\n",
              "      <td>0</td>\n",
              "      <td>0</td>\n",
              "      <td>0</td>\n",
              "      <td>0</td>\n",
              "      <td>0</td>\n",
              "      <td>0</td>\n",
              "      <td>0</td>\n",
              "      <td>0</td>\n",
              "      <td>0</td>\n",
              "      <td>1</td>\n",
              "      <td>0</td>\n",
              "      <td>0</td>\n",
              "      <td>0</td>\n",
              "      <td>0</td>\n",
              "      <td>0</td>\n",
              "      <td>0</td>\n",
              "      <td>0</td>\n",
              "      <td>0</td>\n",
              "      <td>0</td>\n",
              "      <td>0</td>\n",
              "      <td>0</td>\n",
              "      <td>0</td>\n",
              "      <td>1</td>\n",
              "      <td>0</td>\n",
              "    </tr>\n",
              "  </tbody>\n",
              "</table>\n",
              "</div>"
            ],
            "text/plain": [
              "   amount_borrowed  borrower_rate  ...  term_36  term_60\n",
              "0          27050.0         0.1099  ...        1        0\n",
              "1           4800.0         0.1099  ...        1        0\n",
              "2          12000.0         0.0762  ...        1        0\n",
              "3          12000.0         0.1199  ...        1        0\n",
              "4          12000.0         0.0662  ...        1        0\n",
              "\n",
              "[5 rows x 32 columns]"
            ]
          },
          "metadata": {
            "tags": []
          },
          "execution_count": 34
        }
      ]
    },
    {
      "cell_type": "markdown",
      "metadata": {
        "id": "GBUln9D81-7X"
      },
      "source": [
        "**Multicollinearity Check with VIF on Continous Variables**"
      ]
    },
    {
      "cell_type": "code",
      "metadata": {
        "id": "5edl28Skoy79"
      },
      "source": [
        "def calc_vif(X):\n",
        "\n",
        "    # Calculating VIF\n",
        "    vif = pd.DataFrame()\n",
        "    vif[\"variables\"] = X.columns\n",
        "    vif[\"VIF\"] = [variance_inflation_factor(X.values, i) for i in range(X.shape[1])]\n",
        "\n",
        "    return(vif)"
      ],
      "execution_count": 35,
      "outputs": []
    },
    {
      "cell_type": "code",
      "metadata": {
        "colab": {
          "base_uri": "https://localhost:8080/",
          "height": 143
        },
        "id": "xzmnA86A2D6b",
        "outputId": "100096dc-9989-4415-d903-0ee3f6a3cdcb"
      },
      "source": [
        "# VIF Multicollinearity check\n",
        "X = df[['amount_borrowed', 'borrower_rate',\n",
        "       'installment', 'principal_balance', 'principal_paid', 'interest_paid',\n",
        "       'late_fees_paid', 'debt_sale_proceeds_received', 'days_past_due']]\n",
        "vif = calc_vif(X)\n",
        "vif[vif['VIF']>10]"
      ],
      "execution_count": 36,
      "outputs": [
        {
          "output_type": "execute_result",
          "data": {
            "text/html": [
              "<div>\n",
              "<style scoped>\n",
              "    .dataframe tbody tr th:only-of-type {\n",
              "        vertical-align: middle;\n",
              "    }\n",
              "\n",
              "    .dataframe tbody tr th {\n",
              "        vertical-align: top;\n",
              "    }\n",
              "\n",
              "    .dataframe thead th {\n",
              "        text-align: right;\n",
              "    }\n",
              "</style>\n",
              "<table border=\"1\" class=\"dataframe\">\n",
              "  <thead>\n",
              "    <tr style=\"text-align: right;\">\n",
              "      <th></th>\n",
              "      <th>variables</th>\n",
              "      <th>VIF</th>\n",
              "    </tr>\n",
              "  </thead>\n",
              "  <tbody>\n",
              "    <tr>\n",
              "      <th>0</th>\n",
              "      <td>amount_borrowed</td>\n",
              "      <td>56.549154</td>\n",
              "    </tr>\n",
              "    <tr>\n",
              "      <th>2</th>\n",
              "      <td>installment</td>\n",
              "      <td>44.423913</td>\n",
              "    </tr>\n",
              "    <tr>\n",
              "      <th>4</th>\n",
              "      <td>principal_paid</td>\n",
              "      <td>13.951818</td>\n",
              "    </tr>\n",
              "  </tbody>\n",
              "</table>\n",
              "</div>"
            ],
            "text/plain": [
              "         variables        VIF\n",
              "0  amount_borrowed  56.549154\n",
              "2      installment  44.423913\n",
              "4   principal_paid  13.951818"
            ]
          },
          "metadata": {
            "tags": []
          },
          "execution_count": 36
        }
      ]
    },
    {
      "cell_type": "markdown",
      "metadata": {
        "id": "T1K5g5dG6NNt"
      },
      "source": [
        "Here I have take VIF threshold = 10. Given the above result, I am removing amount_borrowed which has highest VIF and run VIF again."
      ]
    },
    {
      "cell_type": "code",
      "metadata": {
        "colab": {
          "base_uri": "https://localhost:8080/"
        },
        "id": "k0sam_oG2R9o",
        "outputId": "ac9418d3-dd9c-4c20-cf07-35e1b1488cdd"
      },
      "source": [
        "X.drop('amount_borrowed', axis = 1, inplace = True)"
      ],
      "execution_count": 37,
      "outputs": [
        {
          "output_type": "stream",
          "text": [
            "/usr/local/lib/python3.7/dist-packages/pandas/core/frame.py:4174: SettingWithCopyWarning: \n",
            "A value is trying to be set on a copy of a slice from a DataFrame\n",
            "\n",
            "See the caveats in the documentation: https://pandas.pydata.org/pandas-docs/stable/user_guide/indexing.html#returning-a-view-versus-a-copy\n",
            "  errors=errors,\n"
          ],
          "name": "stderr"
        }
      ]
    },
    {
      "cell_type": "code",
      "metadata": {
        "colab": {
          "base_uri": "https://localhost:8080/",
          "height": 112
        },
        "id": "dUXyneCM4U6v",
        "outputId": "5c409f52-f025-4805-ca3e-6fe57de7e55c"
      },
      "source": [
        "vif = calc_vif(X)\n",
        "vif[vif['VIF']>10]"
      ],
      "execution_count": 38,
      "outputs": [
        {
          "output_type": "execute_result",
          "data": {
            "text/html": [
              "<div>\n",
              "<style scoped>\n",
              "    .dataframe tbody tr th:only-of-type {\n",
              "        vertical-align: middle;\n",
              "    }\n",
              "\n",
              "    .dataframe tbody tr th {\n",
              "        vertical-align: top;\n",
              "    }\n",
              "\n",
              "    .dataframe thead th {\n",
              "        text-align: right;\n",
              "    }\n",
              "</style>\n",
              "<table border=\"1\" class=\"dataframe\">\n",
              "  <thead>\n",
              "    <tr style=\"text-align: right;\">\n",
              "      <th></th>\n",
              "      <th>variables</th>\n",
              "      <th>VIF</th>\n",
              "    </tr>\n",
              "  </thead>\n",
              "  <tbody>\n",
              "    <tr>\n",
              "      <th>1</th>\n",
              "      <td>installment</td>\n",
              "      <td>14.562109</td>\n",
              "    </tr>\n",
              "    <tr>\n",
              "      <th>3</th>\n",
              "      <td>principal_paid</td>\n",
              "      <td>11.514846</td>\n",
              "    </tr>\n",
              "  </tbody>\n",
              "</table>\n",
              "</div>"
            ],
            "text/plain": [
              "        variables        VIF\n",
              "1     installment  14.562109\n",
              "3  principal_paid  11.514846"
            ]
          },
          "metadata": {
            "tags": []
          },
          "execution_count": 38
        }
      ]
    },
    {
      "cell_type": "markdown",
      "metadata": {
        "id": "FzAteVRf7BLV"
      },
      "source": [
        "Now, removing installment and checking VIF again."
      ]
    },
    {
      "cell_type": "code",
      "metadata": {
        "colab": {
          "base_uri": "https://localhost:8080/",
          "height": 136
        },
        "id": "N1aBQec-67gb",
        "outputId": "d028000e-bd29-485d-f5d2-82b368d121f8"
      },
      "source": [
        "X.drop('installment', axis = 1, inplace= True)\n",
        "vif = calc_vif(X)\n",
        "vif[vif['VIF']>10]"
      ],
      "execution_count": 39,
      "outputs": [
        {
          "output_type": "stream",
          "text": [
            "/usr/local/lib/python3.7/dist-packages/pandas/core/frame.py:4174: SettingWithCopyWarning: \n",
            "A value is trying to be set on a copy of a slice from a DataFrame\n",
            "\n",
            "See the caveats in the documentation: https://pandas.pydata.org/pandas-docs/stable/user_guide/indexing.html#returning-a-view-versus-a-copy\n",
            "  errors=errors,\n"
          ],
          "name": "stderr"
        },
        {
          "output_type": "execute_result",
          "data": {
            "text/html": [
              "<div>\n",
              "<style scoped>\n",
              "    .dataframe tbody tr th:only-of-type {\n",
              "        vertical-align: middle;\n",
              "    }\n",
              "\n",
              "    .dataframe tbody tr th {\n",
              "        vertical-align: top;\n",
              "    }\n",
              "\n",
              "    .dataframe thead th {\n",
              "        text-align: right;\n",
              "    }\n",
              "</style>\n",
              "<table border=\"1\" class=\"dataframe\">\n",
              "  <thead>\n",
              "    <tr style=\"text-align: right;\">\n",
              "      <th></th>\n",
              "      <th>variables</th>\n",
              "      <th>VIF</th>\n",
              "    </tr>\n",
              "  </thead>\n",
              "  <tbody>\n",
              "  </tbody>\n",
              "</table>\n",
              "</div>"
            ],
            "text/plain": [
              "Empty DataFrame\n",
              "Columns: [variables, VIF]\n",
              "Index: []"
            ]
          },
          "metadata": {
            "tags": []
          },
          "execution_count": 39
        }
      ]
    },
    {
      "cell_type": "markdown",
      "metadata": {
        "id": "XM6aWgSN7Qbw"
      },
      "source": [
        "Now, df continous variables have no feature having VIF > 10."
      ]
    },
    {
      "cell_type": "markdown",
      "metadata": {
        "id": "CO6ubpv9mdd2"
      },
      "source": [
        "### Model Building"
      ]
    },
    {
      "cell_type": "markdown",
      "metadata": {
        "id": "l8Bb-lpC7_iz"
      },
      "source": [
        "**Neural Network Model**\n",
        "\n",
        "\n"
      ]
    },
    {
      "cell_type": "code",
      "metadata": {
        "id": "9PaM5w797ODQ"
      },
      "source": [
        "# Removing amount_borrowed, installment from df\n",
        "df.drop(['installment', 'amount_borrowed'], axis = 1, inplace= True)"
      ],
      "execution_count": 40,
      "outputs": []
    },
    {
      "cell_type": "code",
      "metadata": {
        "colab": {
          "base_uri": "https://localhost:8080/",
          "height": 226
        },
        "id": "41AgFIqS8xDC",
        "outputId": "0bac3122-c209-40b8-ca36-e4fffa272614"
      },
      "source": [
        "df.head()"
      ],
      "execution_count": 41,
      "outputs": [
        {
          "output_type": "execute_result",
          "data": {
            "text/html": [
              "<div>\n",
              "<style scoped>\n",
              "    .dataframe tbody tr th:only-of-type {\n",
              "        vertical-align: middle;\n",
              "    }\n",
              "\n",
              "    .dataframe tbody tr th {\n",
              "        vertical-align: top;\n",
              "    }\n",
              "\n",
              "    .dataframe thead th {\n",
              "        text-align: right;\n",
              "    }\n",
              "</style>\n",
              "<table border=\"1\" class=\"dataframe\">\n",
              "  <thead>\n",
              "    <tr style=\"text-align: right;\">\n",
              "      <th></th>\n",
              "      <th>borrower_rate</th>\n",
              "      <th>principal_balance</th>\n",
              "      <th>principal_paid</th>\n",
              "      <th>interest_paid</th>\n",
              "      <th>late_fees_paid</th>\n",
              "      <th>debt_sale_proceeds_received</th>\n",
              "      <th>days_past_due</th>\n",
              "      <th>loan_status_description</th>\n",
              "      <th>grade_B</th>\n",
              "      <th>grade_C</th>\n",
              "      <th>grade_D</th>\n",
              "      <th>grade_E</th>\n",
              "      <th>grade_F</th>\n",
              "      <th>grade_G</th>\n",
              "      <th>listing_title_credit_card</th>\n",
              "      <th>listing_title_debt_consolidation</th>\n",
              "      <th>listing_title_educational</th>\n",
              "      <th>listing_title_home_improvement</th>\n",
              "      <th>listing_title_house</th>\n",
              "      <th>listing_title_major_purchase</th>\n",
              "      <th>listing_title_medical</th>\n",
              "      <th>listing_title_moving</th>\n",
              "      <th>listing_title_other</th>\n",
              "      <th>listing_title_renewable_energy</th>\n",
              "      <th>listing_title_small_business</th>\n",
              "      <th>listing_title_vacation</th>\n",
              "      <th>listing_title_wedding</th>\n",
              "      <th>data_source_Prosper</th>\n",
              "      <th>term_36</th>\n",
              "      <th>term_60</th>\n",
              "    </tr>\n",
              "  </thead>\n",
              "  <tbody>\n",
              "    <tr>\n",
              "      <th>0</th>\n",
              "      <td>0.1099</td>\n",
              "      <td>0.0</td>\n",
              "      <td>27050.0</td>\n",
              "      <td>4702.53</td>\n",
              "      <td>0.0</td>\n",
              "      <td>0.0</td>\n",
              "      <td>0</td>\n",
              "      <td>0</td>\n",
              "      <td>1</td>\n",
              "      <td>0</td>\n",
              "      <td>0</td>\n",
              "      <td>0</td>\n",
              "      <td>0</td>\n",
              "      <td>0</td>\n",
              "      <td>0</td>\n",
              "      <td>1</td>\n",
              "      <td>0</td>\n",
              "      <td>0</td>\n",
              "      <td>0</td>\n",
              "      <td>0</td>\n",
              "      <td>0</td>\n",
              "      <td>0</td>\n",
              "      <td>0</td>\n",
              "      <td>0</td>\n",
              "      <td>0</td>\n",
              "      <td>0</td>\n",
              "      <td>0</td>\n",
              "      <td>0</td>\n",
              "      <td>1</td>\n",
              "      <td>0</td>\n",
              "    </tr>\n",
              "    <tr>\n",
              "      <th>1</th>\n",
              "      <td>0.1099</td>\n",
              "      <td>0.0</td>\n",
              "      <td>4800.0</td>\n",
              "      <td>357.52</td>\n",
              "      <td>0.0</td>\n",
              "      <td>0.0</td>\n",
              "      <td>0</td>\n",
              "      <td>0</td>\n",
              "      <td>1</td>\n",
              "      <td>0</td>\n",
              "      <td>0</td>\n",
              "      <td>0</td>\n",
              "      <td>0</td>\n",
              "      <td>0</td>\n",
              "      <td>0</td>\n",
              "      <td>0</td>\n",
              "      <td>0</td>\n",
              "      <td>1</td>\n",
              "      <td>0</td>\n",
              "      <td>0</td>\n",
              "      <td>0</td>\n",
              "      <td>0</td>\n",
              "      <td>0</td>\n",
              "      <td>0</td>\n",
              "      <td>0</td>\n",
              "      <td>0</td>\n",
              "      <td>0</td>\n",
              "      <td>0</td>\n",
              "      <td>1</td>\n",
              "      <td>0</td>\n",
              "    </tr>\n",
              "    <tr>\n",
              "      <th>2</th>\n",
              "      <td>0.0762</td>\n",
              "      <td>0.0</td>\n",
              "      <td>12000.0</td>\n",
              "      <td>1397.54</td>\n",
              "      <td>0.0</td>\n",
              "      <td>0.0</td>\n",
              "      <td>0</td>\n",
              "      <td>0</td>\n",
              "      <td>0</td>\n",
              "      <td>0</td>\n",
              "      <td>0</td>\n",
              "      <td>0</td>\n",
              "      <td>0</td>\n",
              "      <td>0</td>\n",
              "      <td>0</td>\n",
              "      <td>1</td>\n",
              "      <td>0</td>\n",
              "      <td>0</td>\n",
              "      <td>0</td>\n",
              "      <td>0</td>\n",
              "      <td>0</td>\n",
              "      <td>0</td>\n",
              "      <td>0</td>\n",
              "      <td>0</td>\n",
              "      <td>0</td>\n",
              "      <td>0</td>\n",
              "      <td>0</td>\n",
              "      <td>0</td>\n",
              "      <td>1</td>\n",
              "      <td>0</td>\n",
              "    </tr>\n",
              "    <tr>\n",
              "      <th>3</th>\n",
              "      <td>0.1199</td>\n",
              "      <td>0.0</td>\n",
              "      <td>12000.0</td>\n",
              "      <td>2346.48</td>\n",
              "      <td>0.0</td>\n",
              "      <td>0.0</td>\n",
              "      <td>0</td>\n",
              "      <td>0</td>\n",
              "      <td>1</td>\n",
              "      <td>0</td>\n",
              "      <td>0</td>\n",
              "      <td>0</td>\n",
              "      <td>0</td>\n",
              "      <td>0</td>\n",
              "      <td>0</td>\n",
              "      <td>1</td>\n",
              "      <td>0</td>\n",
              "      <td>0</td>\n",
              "      <td>0</td>\n",
              "      <td>0</td>\n",
              "      <td>0</td>\n",
              "      <td>0</td>\n",
              "      <td>0</td>\n",
              "      <td>0</td>\n",
              "      <td>0</td>\n",
              "      <td>0</td>\n",
              "      <td>0</td>\n",
              "      <td>0</td>\n",
              "      <td>1</td>\n",
              "      <td>0</td>\n",
              "    </tr>\n",
              "    <tr>\n",
              "      <th>4</th>\n",
              "      <td>0.0662</td>\n",
              "      <td>0.0</td>\n",
              "      <td>12000.0</td>\n",
              "      <td>1263.95</td>\n",
              "      <td>0.0</td>\n",
              "      <td>0.0</td>\n",
              "      <td>0</td>\n",
              "      <td>0</td>\n",
              "      <td>0</td>\n",
              "      <td>0</td>\n",
              "      <td>0</td>\n",
              "      <td>0</td>\n",
              "      <td>0</td>\n",
              "      <td>0</td>\n",
              "      <td>0</td>\n",
              "      <td>1</td>\n",
              "      <td>0</td>\n",
              "      <td>0</td>\n",
              "      <td>0</td>\n",
              "      <td>0</td>\n",
              "      <td>0</td>\n",
              "      <td>0</td>\n",
              "      <td>0</td>\n",
              "      <td>0</td>\n",
              "      <td>0</td>\n",
              "      <td>0</td>\n",
              "      <td>0</td>\n",
              "      <td>0</td>\n",
              "      <td>1</td>\n",
              "      <td>0</td>\n",
              "    </tr>\n",
              "  </tbody>\n",
              "</table>\n",
              "</div>"
            ],
            "text/plain": [
              "   borrower_rate  principal_balance  ...  term_36  term_60\n",
              "0         0.1099                0.0  ...        1        0\n",
              "1         0.1099                0.0  ...        1        0\n",
              "2         0.0762                0.0  ...        1        0\n",
              "3         0.1199                0.0  ...        1        0\n",
              "4         0.0662                0.0  ...        1        0\n",
              "\n",
              "[5 rows x 30 columns]"
            ]
          },
          "metadata": {
            "tags": []
          },
          "execution_count": 41
        }
      ]
    },
    {
      "cell_type": "code",
      "metadata": {
        "id": "rcJR2nhq8_l8"
      },
      "source": [
        "X = df.drop('loan_status_description', axis = 1)\n",
        "y = df['loan_status_description']"
      ],
      "execution_count": 42,
      "outputs": []
    },
    {
      "cell_type": "code",
      "metadata": {
        "id": "iZF0K3o59Mta"
      },
      "source": [
        "# Train-Test Split\n",
        "X_train, X_test, y_train, y_test = train_test_split(X, y, test_size=0.2, random_state=101)"
      ],
      "execution_count": 43,
      "outputs": []
    },
    {
      "cell_type": "code",
      "metadata": {
        "id": "x8rAt7AN9PBJ"
      },
      "source": [
        "# Normalising dataset\n",
        "scaler = MinMaxScaler()\n",
        "X_train = scaler.fit_transform(X_train)\n",
        "X_test = scaler.transform(X_test)"
      ],
      "execution_count": 44,
      "outputs": []
    },
    {
      "cell_type": "code",
      "metadata": {
        "colab": {
          "base_uri": "https://localhost:8080/"
        },
        "id": "P_sXnvxn9VJc",
        "outputId": "53bed187-71c0-4907-a186-bb36aa1e3b2c"
      },
      "source": [
        "X.shape"
      ],
      "execution_count": 45,
      "outputs": [
        {
          "output_type": "execute_result",
          "data": {
            "text/plain": [
              "(1491373, 29)"
            ]
          },
          "metadata": {
            "tags": []
          },
          "execution_count": 45
        }
      ]
    },
    {
      "cell_type": "code",
      "metadata": {
        "id": "Ur9lKci79YpN"
      },
      "source": [
        "# Building Neural Network Model\n",
        "model = Sequential()\n",
        "\n",
        "# Adding Input Layer\n",
        "model.add(Dense(29, activation='relu'))\n",
        "model.add(Dropout(0.2)) # This will help in regularization\n",
        "\n",
        "# Hidden Layer\n",
        "model.add(Dense(14, activation='relu'))\n",
        "model.add(Dropout(0.2))\n",
        "\n",
        "# Hidden Layer\n",
        "model.add(Dense(7, activation='relu'))\n",
        "model.add(Dropout(0.2))\n",
        "\n",
        "# Output Layer. We will add activation as it is binary classification\n",
        "model.add(Dense(1, activation='sigmoid'))\n",
        "\n",
        "# Compile Model\n",
        "model.compile(loss='binary_crossentropy', optimizer='adam')"
      ],
      "execution_count": 46,
      "outputs": []
    },
    {
      "cell_type": "code",
      "metadata": {
        "id": "A43jkNPA-DHb"
      },
      "source": [
        "early_stop = EarlyStopping(monitor='val_loss', mode='min', verbose=1, patience=10) "
      ],
      "execution_count": 47,
      "outputs": []
    },
    {
      "cell_type": "code",
      "metadata": {
        "colab": {
          "base_uri": "https://localhost:8080/"
        },
        "id": "AhiLaTz5-FJ3",
        "outputId": "c80da513-b0bb-45f1-89c4-e98f352ee39a"
      },
      "source": [
        "# Fitting Model\n",
        "model.fit(x=X_train, y=y_train, epochs=100, validation_data=(X_test, y_test), batch_size = 256)"
      ],
      "execution_count": 48,
      "outputs": [
        {
          "output_type": "stream",
          "text": [
            "Epoch 1/100\n",
            "4661/4661 [==============================] - 22s 4ms/step - loss: -1127.7726 - val_loss: -5316.3970\n",
            "Epoch 2/100\n",
            "4661/4661 [==============================] - 18s 4ms/step - loss: -22380.8555 - val_loss: -53049.3594\n",
            "Epoch 3/100\n",
            "4661/4661 [==============================] - 18s 4ms/step - loss: -116259.2266 - val_loss: -214282.7969\n",
            "Epoch 4/100\n",
            "4661/4661 [==============================] - 17s 4ms/step - loss: -363096.4062 - val_loss: -590834.6250\n",
            "Epoch 5/100\n",
            "4661/4661 [==============================] - 17s 4ms/step - loss: -873742.3125 - val_loss: -1299953.0000\n",
            "Epoch 6/100\n",
            "4661/4661 [==============================] - 17s 4ms/step - loss: -1766010.1250 - val_loss: -2499543.2500\n",
            "Epoch 7/100\n",
            "4661/4661 [==============================] - 17s 4ms/step - loss: -3237516.2500 - val_loss: -4378968.0000\n",
            "Epoch 8/100\n",
            "4661/4661 [==============================] - 18s 4ms/step - loss: -5424987.5000 - val_loss: -7129155.0000\n",
            "Epoch 9/100\n",
            "4661/4661 [==============================] - 17s 4ms/step - loss: -8594043.0000 - val_loss: -10976597.0000\n",
            "Epoch 10/100\n",
            "4661/4661 [==============================] - 17s 4ms/step - loss: -12876479.0000 - val_loss: -16186364.0000\n",
            "Epoch 11/100\n",
            "4661/4661 [==============================] - 18s 4ms/step - loss: -18543894.0000 - val_loss: -23012944.0000\n",
            "Epoch 12/100\n",
            "4661/4661 [==============================] - 17s 4ms/step - loss: -26111372.0000 - val_loss: -31828004.0000\n",
            "Epoch 13/100\n",
            "4661/4661 [==============================] - 17s 4ms/step - loss: -35726680.0000 - val_loss: -42850404.0000\n",
            "Epoch 14/100\n",
            "4661/4661 [==============================] - 18s 4ms/step - loss: -47176032.0000 - val_loss: -56448320.0000\n",
            "Epoch 15/100\n",
            "4661/4661 [==============================] - 18s 4ms/step - loss: -61624628.0000 - val_loss: -72982160.0000\n",
            "Epoch 16/100\n",
            "4661/4661 [==============================] - 17s 4ms/step - loss: -79208584.0000 - val_loss: -93061744.0000\n",
            "Epoch 17/100\n",
            "4661/4661 [==============================] - 18s 4ms/step - loss: -99937976.0000 - val_loss: -116903064.0000\n",
            "Epoch 18/100\n",
            "4661/4661 [==============================] - 18s 4ms/step - loss: -125342000.0000 - val_loss: -144826688.0000\n",
            "Epoch 19/100\n",
            "4661/4661 [==============================] - 17s 4ms/step - loss: -153798752.0000 - val_loss: -177452992.0000\n",
            "Epoch 20/100\n",
            "4661/4661 [==============================] - 18s 4ms/step - loss: -187795088.0000 - val_loss: -215074528.0000\n",
            "Epoch 21/100\n",
            "4661/4661 [==============================] - 16s 4ms/step - loss: -226493328.0000 - val_loss: -258960992.0000\n",
            "Epoch 22/100\n",
            "4661/4661 [==============================] - 18s 4ms/step - loss: -269502880.0000 - val_loss: -308602080.0000\n",
            "Epoch 23/100\n",
            "4661/4661 [==============================] - 18s 4ms/step - loss: -322783776.0000 - val_loss: -365262272.0000\n",
            "Epoch 24/100\n",
            "4661/4661 [==============================] - 18s 4ms/step - loss: -379044544.0000 - val_loss: -430023520.0000\n",
            "Epoch 25/100\n",
            "4661/4661 [==============================] - 16s 4ms/step - loss: -446899968.0000 - val_loss: -502675552.0000\n",
            "Epoch 26/100\n",
            "4661/4661 [==============================] - 18s 4ms/step - loss: -516794368.0000 - val_loss: -583295552.0000\n",
            "Epoch 27/100\n",
            "4661/4661 [==============================] - 18s 4ms/step - loss: -599371136.0000 - val_loss: -673020800.0000\n",
            "Epoch 28/100\n",
            "4661/4661 [==============================] - 17s 4ms/step - loss: -689228736.0000 - val_loss: -772998016.0000\n",
            "Epoch 29/100\n",
            "4661/4661 [==============================] - 17s 4ms/step - loss: -795586816.0000 - val_loss: -884313536.0000\n",
            "Epoch 30/100\n",
            "4661/4661 [==============================] - 16s 4ms/step - loss: -905821568.0000 - val_loss: -1007115456.0000\n",
            "Epoch 31/100\n",
            "4661/4661 [==============================] - 17s 4ms/step - loss: -1033539776.0000 - val_loss: -1141547648.0000\n",
            "Epoch 32/100\n",
            "4661/4661 [==============================] - 16s 4ms/step - loss: -1165148416.0000 - val_loss: -1289079680.0000\n",
            "Epoch 33/100\n",
            "4661/4661 [==============================] - 17s 4ms/step - loss: -1309691776.0000 - val_loss: -1452036864.0000\n",
            "Epoch 34/100\n",
            "4661/4661 [==============================] - 17s 4ms/step - loss: -1474783104.0000 - val_loss: -1626897024.0000\n",
            "Epoch 35/100\n",
            "4661/4661 [==============================] - 17s 4ms/step - loss: -1652624768.0000 - val_loss: -1819329536.0000\n",
            "Epoch 36/100\n",
            "4661/4661 [==============================] - 18s 4ms/step - loss: -1836696960.0000 - val_loss: -2027963392.0000\n",
            "Epoch 37/100\n",
            "4661/4661 [==============================] - 17s 4ms/step - loss: -2048025856.0000 - val_loss: -2252530432.0000\n",
            "Epoch 38/100\n",
            "4661/4661 [==============================] - 18s 4ms/step - loss: -2269554944.0000 - val_loss: -2496976640.0000\n",
            "Epoch 39/100\n",
            "4661/4661 [==============================] - 17s 4ms/step - loss: -2513183488.0000 - val_loss: -2758174208.0000\n",
            "Epoch 40/100\n",
            "4661/4661 [==============================] - 17s 4ms/step - loss: -2779039744.0000 - val_loss: -3039801344.0000\n",
            "Epoch 41/100\n",
            "4661/4661 [==============================] - 17s 4ms/step - loss: -3054180864.0000 - val_loss: -3344291584.0000\n",
            "Epoch 42/100\n",
            "4661/4661 [==============================] - 16s 4ms/step - loss: -3355968000.0000 - val_loss: -3668686848.0000\n",
            "Epoch 43/100\n",
            "4661/4661 [==============================] - 18s 4ms/step - loss: -3679012608.0000 - val_loss: -4015174400.0000\n",
            "Epoch 44/100\n",
            "4661/4661 [==============================] - 16s 4ms/step - loss: -4035566592.0000 - val_loss: -4388275200.0000\n",
            "Epoch 45/100\n",
            "4661/4661 [==============================] - 17s 4ms/step - loss: -4407681536.0000 - val_loss: -4786052096.0000\n",
            "Epoch 46/100\n",
            "4661/4661 [==============================] - 17s 4ms/step - loss: -4797444096.0000 - val_loss: -5212602368.0000\n",
            "Epoch 47/100\n",
            "4661/4661 [==============================] - 17s 4ms/step - loss: -5206203392.0000 - val_loss: -5663719424.0000\n",
            "Epoch 48/100\n",
            "4661/4661 [==============================] - 16s 4ms/step - loss: -5627400704.0000 - val_loss: -6142604288.0000\n",
            "Epoch 49/100\n",
            "4661/4661 [==============================] - 17s 4ms/step - loss: -6143478272.0000 - val_loss: -6652238848.0000\n",
            "Epoch 50/100\n",
            "4661/4661 [==============================] - 16s 4ms/step - loss: -6627634688.0000 - val_loss: -7193661952.0000\n",
            "Epoch 51/100\n",
            "4661/4661 [==============================] - 17s 4ms/step - loss: -7144574464.0000 - val_loss: -7770064896.0000\n",
            "Epoch 52/100\n",
            "4661/4661 [==============================] - 18s 4ms/step - loss: -7719052288.0000 - val_loss: -8374703616.0000\n",
            "Epoch 53/100\n",
            "4661/4661 [==============================] - 17s 4ms/step - loss: -8333187584.0000 - val_loss: -9016331264.0000\n",
            "Epoch 54/100\n",
            "4661/4661 [==============================] - 18s 4ms/step - loss: -8937701376.0000 - val_loss: -9689193472.0000\n",
            "Epoch 55/100\n",
            "4661/4661 [==============================] - 16s 4ms/step - loss: -9607817216.0000 - val_loss: -10403491840.0000\n",
            "Epoch 56/100\n",
            "4661/4661 [==============================] - 18s 4ms/step - loss: -10272454656.0000 - val_loss: -11156572160.0000\n",
            "Epoch 57/100\n",
            "4661/4661 [==============================] - 17s 4ms/step - loss: -11026453504.0000 - val_loss: -11951492096.0000\n",
            "Epoch 58/100\n",
            "4661/4661 [==============================] - 18s 4ms/step - loss: -11864336384.0000 - val_loss: -12780678144.0000\n",
            "Epoch 59/100\n",
            "4661/4661 [==============================] - 18s 4ms/step - loss: -12696859648.0000 - val_loss: -13662384128.0000\n",
            "Epoch 60/100\n",
            "4661/4661 [==============================] - 17s 4ms/step - loss: -13524356096.0000 - val_loss: -14587102208.0000\n",
            "Epoch 61/100\n",
            "4661/4661 [==============================] - 17s 4ms/step - loss: -14534987776.0000 - val_loss: -15565365248.0000\n",
            "Epoch 62/100\n",
            "4661/4661 [==============================] - 18s 4ms/step - loss: -15424353280.0000 - val_loss: -16583805952.0000\n",
            "Epoch 63/100\n",
            "4661/4661 [==============================] - 18s 4ms/step - loss: -16305679360.0000 - val_loss: -17636331520.0000\n",
            "Epoch 64/100\n",
            "4661/4661 [==============================] - 18s 4ms/step - loss: -17323362304.0000 - val_loss: -18735775744.0000\n",
            "Epoch 65/100\n",
            "4661/4661 [==============================] - 16s 3ms/step - loss: -18490310656.0000 - val_loss: -19906351104.0000\n",
            "Epoch 66/100\n",
            "4661/4661 [==============================] - 18s 4ms/step - loss: -19607818240.0000 - val_loss: -21124333568.0000\n",
            "Epoch 67/100\n",
            "4661/4661 [==============================] - 17s 4ms/step - loss: -20820135936.0000 - val_loss: -22395791360.0000\n",
            "Epoch 68/100\n",
            "4661/4661 [==============================] - 16s 4ms/step - loss: -22105034752.0000 - val_loss: -23733420032.0000\n",
            "Epoch 69/100\n",
            "4661/4661 [==============================] - 16s 3ms/step - loss: -23442085888.0000 - val_loss: -25134151680.0000\n",
            "Epoch 70/100\n",
            "4661/4661 [==============================] - 16s 3ms/step - loss: -24785319936.0000 - val_loss: -26566703104.0000\n",
            "Epoch 71/100\n",
            "4661/4661 [==============================] - 16s 4ms/step - loss: -26158495744.0000 - val_loss: -28085098496.0000\n",
            "Epoch 72/100\n",
            "4661/4661 [==============================] - 18s 4ms/step - loss: -27591411712.0000 - val_loss: -29662371840.0000\n",
            "Epoch 73/100\n",
            "4661/4661 [==============================] - 16s 4ms/step - loss: -29209481216.0000 - val_loss: -31291736064.0000\n",
            "Epoch 74/100\n",
            "4661/4661 [==============================] - 16s 3ms/step - loss: -30766737408.0000 - val_loss: -33005539328.0000\n",
            "Epoch 75/100\n",
            "4661/4661 [==============================] - 17s 4ms/step - loss: -32573902848.0000 - val_loss: -34771079168.0000\n",
            "Epoch 76/100\n",
            "4661/4661 [==============================] - 17s 4ms/step - loss: -34148276224.0000 - val_loss: -36623306752.0000\n",
            "Epoch 77/100\n",
            "4661/4661 [==============================] - 18s 4ms/step - loss: -35972632576.0000 - val_loss: -38533578752.0000\n",
            "Epoch 78/100\n",
            "4661/4661 [==============================] - 17s 4ms/step - loss: -37732495360.0000 - val_loss: -40541327360.0000\n",
            "Epoch 79/100\n",
            "4661/4661 [==============================] - 18s 4ms/step - loss: -39809708032.0000 - val_loss: -42614157312.0000\n",
            "Epoch 80/100\n",
            "4661/4661 [==============================] - 17s 4ms/step - loss: -41729966080.0000 - val_loss: -44750901248.0000\n",
            "Epoch 81/100\n",
            "4661/4661 [==============================] - 17s 4ms/step - loss: -44022603776.0000 - val_loss: -46974443520.0000\n",
            "Epoch 82/100\n",
            "4661/4661 [==============================] - 17s 4ms/step - loss: -46223429632.0000 - val_loss: -49299615744.0000\n",
            "Epoch 83/100\n",
            "4661/4661 [==============================] - 17s 4ms/step - loss: -48314437632.0000 - val_loss: -51682316288.0000\n",
            "Epoch 84/100\n",
            "4661/4661 [==============================] - 16s 4ms/step - loss: -50489909248.0000 - val_loss: -54150713344.0000\n",
            "Epoch 85/100\n",
            "4661/4661 [==============================] - 17s 4ms/step - loss: -52909576192.0000 - val_loss: -56719642624.0000\n",
            "Epoch 86/100\n",
            "4661/4661 [==============================] - 16s 3ms/step - loss: -55577919488.0000 - val_loss: -59384496128.0000\n",
            "Epoch 87/100\n",
            "4661/4661 [==============================] - 16s 3ms/step - loss: -58098343936.0000 - val_loss: -62113693696.0000\n",
            "Epoch 88/100\n",
            "4661/4661 [==============================] - 16s 4ms/step - loss: -60853972992.0000 - val_loss: -64946262016.0000\n",
            "Epoch 89/100\n",
            "4661/4661 [==============================] - 16s 4ms/step - loss: -63721783296.0000 - val_loss: -67893198848.0000\n",
            "Epoch 90/100\n",
            "4661/4661 [==============================] - 18s 4ms/step - loss: -65924751360.0000 - val_loss: -70881312768.0000\n",
            "Epoch 91/100\n",
            "4661/4661 [==============================] - 16s 4ms/step - loss: -69281095680.0000 - val_loss: -74027409408.0000\n",
            "Epoch 92/100\n",
            "4661/4661 [==============================] - 18s 4ms/step - loss: -72639397888.0000 - val_loss: -77273718784.0000\n",
            "Epoch 93/100\n",
            "4661/4661 [==============================] - 18s 4ms/step - loss: -75600019456.0000 - val_loss: -80607453184.0000\n",
            "Epoch 94/100\n",
            "4661/4661 [==============================] - 18s 4ms/step - loss: -79161073664.0000 - val_loss: -84072546304.0000\n",
            "Epoch 95/100\n",
            "4661/4661 [==============================] - 17s 4ms/step - loss: -82198044672.0000 - val_loss: -87619076096.0000\n",
            "Epoch 96/100\n",
            "4661/4661 [==============================] - 18s 4ms/step - loss: -85564686336.0000 - val_loss: -91300216832.0000\n",
            "Epoch 97/100\n",
            "4661/4661 [==============================] - 17s 4ms/step - loss: -88782454784.0000 - val_loss: -95078932480.0000\n",
            "Epoch 98/100\n",
            "4661/4661 [==============================] - 18s 4ms/step - loss: -92948316160.0000 - val_loss: -99007086592.0000\n",
            "Epoch 99/100\n",
            "4661/4661 [==============================] - 17s 4ms/step - loss: -96766451712.0000 - val_loss: -102994845696.0000\n",
            "Epoch 100/100\n",
            "4661/4661 [==============================] - 18s 4ms/step - loss: -100179197952.0000 - val_loss: -107118551040.0000\n"
          ],
          "name": "stdout"
        },
        {
          "output_type": "execute_result",
          "data": {
            "text/plain": [
              "<tensorflow.python.keras.callbacks.History at 0x7f0a040c02d0>"
            ]
          },
          "metadata": {
            "tags": []
          },
          "execution_count": 48
        }
      ]
    },
    {
      "cell_type": "code",
      "metadata": {
        "colab": {
          "base_uri": "https://localhost:8080/",
          "height": 293
        },
        "id": "yxsn7uOH-GvY",
        "outputId": "4ffa9670-3e56-4805-a914-f0b76b0f1a89"
      },
      "source": [
        "# Loss Comparison between training and test\n",
        "losses = pd.DataFrame(model.history.history)\n",
        "losses.plot()"
      ],
      "execution_count": 49,
      "outputs": [
        {
          "output_type": "execute_result",
          "data": {
            "text/plain": [
              "<matplotlib.axes._subplots.AxesSubplot at 0x7f09f2553a90>"
            ]
          },
          "metadata": {
            "tags": []
          },
          "execution_count": 49
        },
        {
          "output_type": "display_data",
          "data": {
            "image/png": "[encoded data removed]",
            "text/plain": [
              "<Figure size 432x288 with 1 Axes>"
            ]
          },
          "metadata": {
            "tags": [],
            "needs_background": "light"
          }
        }
      ]
    },
    {
      "cell_type": "code",
      "metadata": {
        "colab": {
          "base_uri": "https://localhost:8080/"
        },
        "id": "bK55fpdVCheT",
        "outputId": "4ef9c7da-e230-464f-be05-ef486cb3c111"
      },
      "source": [
        "# Predictions\n",
        "predictions = model.predict_classes(X_test)"
      ],
      "execution_count": 50,
      "outputs": [
        {
          "output_type": "stream",
          "text": [
            "/usr/local/lib/python3.7/dist-packages/tensorflow/python/keras/engine/sequential.py:455: UserWarning: `model.predict_classes()` is deprecated and will be removed after 2021-01-01. Please use instead:* `np.argmax(model.predict(x), axis=-1)`,   if your model does multi-class classification   (e.g. if it uses a `softmax` last-layer activation).* `(model.predict(x) > 0.5).astype(\"int32\")`,   if your model does binary classification   (e.g. if it uses a `sigmoid` last-layer activation).\n",
            "  warnings.warn('`model.predict_classes()` is deprecated and '\n"
          ],
          "name": "stderr"
        }
      ]
    },
    {
      "cell_type": "code",
      "metadata": {
        "colab": {
          "base_uri": "https://localhost:8080/"
        },
        "id": "NhTZAiCG54GH",
        "outputId": "7264c3e8-56c0-4848-c04e-ccff8e1c3ad5"
      },
      "source": [
        "print(confusion_matrix(y_test, predictions))"
      ],
      "execution_count": 51,
      "outputs": [
        {
          "output_type": "stream",
          "text": [
            "[[219682  14706      0]\n",
            " [  3921  40806      0]\n",
            " [  2494  16666      0]]\n"
          ],
          "name": "stdout"
        }
      ]
    },
    {
      "cell_type": "code",
      "metadata": {
        "colab": {
          "base_uri": "https://localhost:8080/"
        },
        "id": "VPj8dJ8MHQvm",
        "outputId": "413d712b-cb3c-49b5-9db2-e53d29e73a1f"
      },
      "source": [
        "print(classification_report(y_test, predictions))"
      ],
      "execution_count": 52,
      "outputs": [
        {
          "output_type": "stream",
          "text": [
            "/usr/local/lib/python3.7/dist-packages/sklearn/metrics/_classification.py:1272: UndefinedMetricWarning: Precision and F-score are ill-defined and being set to 0.0 in labels with no predicted samples. Use `zero_division` parameter to control this behavior.\n",
            "  _warn_prf(average, modifier, msg_start, len(result))\n"
          ],
          "name": "stderr"
        },
        {
          "output_type": "stream",
          "text": [
            "              precision    recall  f1-score   support\n",
            "\n",
            "           0       0.97      0.94      0.95    234388\n",
            "           1       0.57      0.91      0.70     44727\n",
            "           2       0.00      0.00      0.00     19160\n",
            "\n",
            "    accuracy                           0.87    298275\n",
            "   macro avg       0.51      0.62      0.55    298275\n",
            "weighted avg       0.85      0.87      0.85    298275\n",
            "\n"
          ],
          "name": "stdout"
        }
      ]
    },
    {
      "cell_type": "markdown",
      "metadata": {
        "id": "-oCAwjYkvWED"
      },
      "source": [
        "**Random Forest Model**"
      ]
    },
    {
      "cell_type": "code",
      "metadata": {
        "colab": {
          "base_uri": "https://localhost:8080/"
        },
        "id": "R64V1nfF0Doa",
        "outputId": "cc03484c-2e9d-4b1a-c6b6-5de43082e9aa"
      },
      "source": [
        "rfc = RandomForestClassifier(n_estimators=100)\n",
        "rfc.fit(X_train, y_train)"
      ],
      "execution_count": 53,
      "outputs": [
        {
          "output_type": "execute_result",
          "data": {
            "text/plain": [
              "RandomForestClassifier(bootstrap=True, ccp_alpha=0.0, class_weight=None,\n",
              "                       criterion='gini', max_depth=None, max_features='auto',\n",
              "                       max_leaf_nodes=None, max_samples=None,\n",
              "                       min_impurity_decrease=0.0, min_impurity_split=None,\n",
              "                       min_samples_leaf=1, min_samples_split=2,\n",
              "                       min_weight_fraction_leaf=0.0, n_estimators=100,\n",
              "                       n_jobs=None, oob_score=False, random_state=None,\n",
              "                       verbose=0, warm_start=False)"
            ]
          },
          "metadata": {
            "tags": []
          },
          "execution_count": 53
        }
      ]
    },
    {
      "cell_type": "code",
      "metadata": {
        "id": "mM2GJOen0GwT"
      },
      "source": [
        "rfc_pred = rfc.predict(X_test)"
      ],
      "execution_count": 54,
      "outputs": []
    },
    {
      "cell_type": "code",
      "metadata": {
        "colab": {
          "base_uri": "https://localhost:8080/"
        },
        "id": "CxZvwBM43pA2",
        "outputId": "44b510d8-623f-4bb8-c263-0e443a529bd2"
      },
      "source": [
        "print(confusion_matrix(y_test,rfc_pred))"
      ],
      "execution_count": 55,
      "outputs": [
        {
          "output_type": "stream",
          "text": [
            "[[234168      0    220]\n",
            " [     0  44111    616]\n",
            " [   740    881  17539]]\n"
          ],
          "name": "stdout"
        }
      ]
    },
    {
      "cell_type": "code",
      "metadata": {
        "colab": {
          "base_uri": "https://localhost:8080/"
        },
        "id": "y_lRWGkN5pIm",
        "outputId": "48112319-931e-4f5e-d04e-65246dd511bd"
      },
      "source": [
        "print(classification_report(y_test,rfc_pred))"
      ],
      "execution_count": 56,
      "outputs": [
        {
          "output_type": "stream",
          "text": [
            "              precision    recall  f1-score   support\n",
            "\n",
            "           0       1.00      1.00      1.00    234388\n",
            "           1       0.98      0.99      0.98     44727\n",
            "           2       0.95      0.92      0.93     19160\n",
            "\n",
            "    accuracy                           0.99    298275\n",
            "   macro avg       0.98      0.97      0.97    298275\n",
            "weighted avg       0.99      0.99      0.99    298275\n",
            "\n"
          ],
          "name": "stdout"
        }
      ]
    }
  ]
}